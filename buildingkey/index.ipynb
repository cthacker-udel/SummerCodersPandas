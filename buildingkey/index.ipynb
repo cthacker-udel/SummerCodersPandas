{
 "cells": [
  {
   "cell_type": "code",
   "execution_count": 43,
   "metadata": {},
   "outputs": [],
   "source": [
    "import pandas as pd\n",
    "import plotly.graph_objects as go\n",
    "import plotly.express as px\n",
    "import numpy as np\n",
    "import math"
   ]
  },
  {
   "cell_type": "code",
   "execution_count": 44,
   "metadata": {},
   "outputs": [],
   "source": [
    "def process_timestamp_to_pd_timestamp(date: str) -> pd.Timestamp | float:\n",
    "    \"\"\"\n",
    "    Takes in a date string from the dataframe, and processes it into a pandas timestamp\n",
    "\n",
    "    Args:\n",
    "        date (str): The string of the date to parse\n",
    "\n",
    "    Returns:\n",
    "        pd.Timestamp: The generated timestamp from the string\n",
    "    \"\"\"\n",
    "    if type(date) is float:\n",
    "        return math.nan\n",
    "    [date_info, time_info] = date.strip().split(\" \")\n",
    "    [year, month, day] = date_info.split(\"-\")\n",
    "    [hour, minute, second] = time_info.split(\":\")\n",
    "    return pd.Timestamp(year=int(year), month=int(month), day=int(day), hour=int(hour), minute=int(minute), second=int(float(second)))"
   ]
  },
  {
   "cell_type": "code",
   "execution_count": 52,
   "metadata": {},
   "outputs": [
    {
     "data": {
      "text/html": [
       "<div>\n",
       "<style scoped>\n",
       "    .dataframe tbody tr th:only-of-type {\n",
       "        vertical-align: middle;\n",
       "    }\n",
       "\n",
       "    .dataframe tbody tr th {\n",
       "        vertical-align: top;\n",
       "    }\n",
       "\n",
       "    .dataframe thead th {\n",
       "        text-align: right;\n",
       "    }\n",
       "</style>\n",
       "<table border=\"1\" class=\"dataframe\">\n",
       "  <thead>\n",
       "    <tr style=\"text-align: right;\">\n",
       "      <th></th>\n",
       "      <th>Timestamp</th>\n",
       "      <th>Email Address</th>\n",
       "      <th>Last Name</th>\n",
       "      <th>First Name</th>\n",
       "      <th>Email Address.1</th>\n",
       "      <th>UDID #</th>\n",
       "      <th>Comments or questions?</th>\n",
       "      <th>Date</th>\n",
       "      <th>Unnamed: 15</th>\n",
       "      <th>Approving_Faculty</th>\n",
       "      <th>Sent_Request</th>\n",
       "      <th>Building_Requested</th>\n",
       "      <th>Has_Lost</th>\n",
       "      <th>Requester_Student_Status</th>\n",
       "      <th>Expected_Departure</th>\n",
       "      <th>Received Key</th>\n",
       "      <th>Timestamp[MS]</th>\n",
       "    </tr>\n",
       "  </thead>\n",
       "  <tbody>\n",
       "    <tr>\n",
       "      <th>0</th>\n",
       "      <td>2020-07-17 17:55:56</td>\n",
       "      <td>cc9f1d1a8f8b671f4f543185cb931e4544a23753c90287...</td>\n",
       "      <td>1bfe1d5b2f9d5b7a3ad74ef1f86f51364aeb11239fc45f...</td>\n",
       "      <td>ee286ba3370879a600b35ef67cf90c68d88e01e3fbf618...</td>\n",
       "      <td>cc9f1d1a8f8b671f4f543185cb931e4544a23753c90287...</td>\n",
       "      <td>5156c08dc3e446c6ea03b067b00b4358b508591e365cca...</td>\n",
       "      <td>I already have this key.</td>\n",
       "      <td>NaN</td>\n",
       "      <td>NaN</td>\n",
       "      <td>Dr. Li Liao</td>\n",
       "      <td>No</td>\n",
       "      <td>218.0</td>\n",
       "      <td>NaN</td>\n",
       "      <td>graduate</td>\n",
       "      <td>2021-12-31 00:00:00</td>\n",
       "      <td>Done</td>\n",
       "      <td>1595008556.0</td>\n",
       "    </tr>\n",
       "    <tr>\n",
       "      <th>1</th>\n",
       "      <td>2020-07-17 17:57:54</td>\n",
       "      <td>2929495bc54a7ec367e00337dc2a61a1a991ab808c7de6...</td>\n",
       "      <td>00c1e468e4e4b1d39812fd02c8c5a0cba81828a5682ece...</td>\n",
       "      <td>00e4537e5c99c2628979d0db9697b4b6dd3efe480875e4...</td>\n",
       "      <td>2929495bc54a7ec367e00337dc2a61a1a991ab808c7de6...</td>\n",
       "      <td>dfc1028b2fe9013269de00c694bd06fddb8128a1644909...</td>\n",
       "      <td>NaN</td>\n",
       "      <td>NaN</td>\n",
       "      <td>NaN</td>\n",
       "      <td>James Clause</td>\n",
       "      <td>Yes</td>\n",
       "      <td>Room 213 and 203, Smith Hall building key</td>\n",
       "      <td>NaN</td>\n",
       "      <td>graduate student</td>\n",
       "      <td>2022-06-01 00:00:00</td>\n",
       "      <td>Done</td>\n",
       "      <td>1595008674.0</td>\n",
       "    </tr>\n",
       "  </tbody>\n",
       "</table>\n",
       "</div>"
      ],
      "text/plain": [
       "            Timestamp                                      Email Address  \\\n",
       "0 2020-07-17 17:55:56  cc9f1d1a8f8b671f4f543185cb931e4544a23753c90287...   \n",
       "1 2020-07-17 17:57:54  2929495bc54a7ec367e00337dc2a61a1a991ab808c7de6...   \n",
       "\n",
       "                                           Last Name  \\\n",
       "0  1bfe1d5b2f9d5b7a3ad74ef1f86f51364aeb11239fc45f...   \n",
       "1  00c1e468e4e4b1d39812fd02c8c5a0cba81828a5682ece...   \n",
       "\n",
       "                                          First Name  \\\n",
       "0  ee286ba3370879a600b35ef67cf90c68d88e01e3fbf618...   \n",
       "1  00e4537e5c99c2628979d0db9697b4b6dd3efe480875e4...   \n",
       "\n",
       "                                     Email Address.1  \\\n",
       "0  cc9f1d1a8f8b671f4f543185cb931e4544a23753c90287...   \n",
       "1  2929495bc54a7ec367e00337dc2a61a1a991ab808c7de6...   \n",
       "\n",
       "                                              UDID #  \\\n",
       "0  5156c08dc3e446c6ea03b067b00b4358b508591e365cca...   \n",
       "1  dfc1028b2fe9013269de00c694bd06fddb8128a1644909...   \n",
       "\n",
       "     Comments or questions? Date Unnamed: 15 Approving_Faculty Sent_Request  \\\n",
       "0  I already have this key.  NaN         NaN       Dr. Li Liao           No   \n",
       "1                       NaN  NaN         NaN      James Clause          Yes   \n",
       "\n",
       "                          Building_Requested Has_Lost  \\\n",
       "0                                      218.0      NaN   \n",
       "1  Room 213 and 203, Smith Hall building key      NaN   \n",
       "\n",
       "  Requester_Student_Status   Expected_Departure Received Key Timestamp[MS]  \n",
       "0                 graduate  2021-12-31 00:00:00         Done  1595008556.0  \n",
       "1         graduate student  2022-06-01 00:00:00         Done  1595008674.0  "
      ]
     },
     "execution_count": 52,
     "metadata": {},
     "output_type": "execute_result"
    }
   ],
   "source": [
    "key_data = pd.read_csv('data.csv')\n",
    "key_data['Approving_Faculty'] = key_data['Name(s) of the Faculty who is approving my key(s) (i.e. please list each faculty if different for each key)']\n",
    "key_data['Sent_Request'] = key_data['I have asked my Faculty(s), who is approving my key(s), and requested him/her to send jabrow@udel.edu their approval.']\n",
    "key_data['Building_Requested'] = key_data['What building(s) # and room(s) # are you requesting a key? (i.e. 101-H Smith Hall)']\n",
    "key_data['Has_Lost'] = key_data['I have lost CIS key(s) and will explain the details below']\n",
    "key_data['Requester_Student_Status'] = key_data['Status (i.e. undergraduate student, graduate student)']\n",
    "key_data['Expected_Departure'] = key_data['Expected departure date from CIS Dept or UD graduation date']\n",
    "key_data['Received Key'] = key_data[' Received Key']\n",
    "key_data['Timestamp'] = key_data['Timestamp'].apply(lambda x: math.nan if type(x) is float or len(x.strip()) == 0 else x)\n",
    "key_data.drop(columns=['Name(s) of the Faculty who is approving my key(s) (i.e. please list each faculty if different for each key)', 'I have asked my Faculty(s), who is approving my key(s), and requested him/her to send jabrow@udel.edu their approval.', 'What building(s) # and room(s) # are you requesting a key? (i.e. 101-H Smith Hall)', 'I have lost CIS key(s) and will explain the details below','Status (i.e. undergraduate student, graduate student)','Expected departure date from CIS Dept or UD graduation date',' Received Key'], inplace=True)\n",
    "\n",
    "key_data['Timestamp'] = key_data['Timestamp'].apply(process_timestamp_to_pd_timestamp)\n",
    "key_data['Timestamp[MS]'] = key_data['Timestamp'].apply(lambda x: x.timestamp() if type(x) is pd.Timestamp else x)\n",
    "key_data.head(2)"
   ]
  },
  {
   "cell_type": "code",
   "execution_count": 46,
   "metadata": {},
   "outputs": [
    {
     "data": {
      "text/plain": [
       "Timestamp                   datetime64[ns]\n",
       "Email Address                       object\n",
       "Last Name                           object\n",
       "First Name                          object\n",
       "Email Address.1                     object\n",
       "UDID #                              object\n",
       "Comments or questions?              object\n",
       "Date                                object\n",
       "Unnamed: 15                         object\n",
       "Approving_Faculty                   object\n",
       "Sent_Request                        object\n",
       "Building_Requested                  object\n",
       "Has_Lost                            object\n",
       "Requester_Student_Status            object\n",
       "Expected_Departure                  object\n",
       "Received Key                        object\n",
       "dtype: object"
      ]
     },
     "execution_count": 46,
     "metadata": {},
     "output_type": "execute_result"
    }
   ],
   "source": [
    "key_data.dtypes"
   ]
  },
  {
   "cell_type": "code",
   "execution_count": 47,
   "metadata": {},
   "outputs": [
    {
     "data": {
      "text/plain": [
       "Index(['Timestamp', 'Email Address', 'Last Name', 'First Name',\n",
       "       'Email Address.1', 'UDID #', 'Comments or questions?', 'Date',\n",
       "       'Unnamed: 15', 'Approving_Faculty', 'Sent_Request',\n",
       "       'Building_Requested', 'Has_Lost', 'Requester_Student_Status',\n",
       "       'Expected_Departure', 'Received Key'],\n",
       "      dtype='object')"
      ]
     },
     "execution_count": 47,
     "metadata": {},
     "output_type": "execute_result"
    }
   ],
   "source": [
    "key_data.columns"
   ]
  },
  {
   "cell_type": "code",
   "execution_count": 90,
   "metadata": {},
   "outputs": [
    {
     "name": "stdout",
     "output_type": "stream",
     "text": [
      "1641126960.1740742\n"
     ]
    },
    {
     "data": {
      "text/plain": [
       "<DatetimeArray>\n",
       "[       '2020-07-17 13:55:56',        '2020-07-17 13:57:54',\n",
       "        '2020-07-17 14:00:06',        '2020-07-17 14:01:45',\n",
       "        '2020-07-17 14:10:56',        '2020-07-17 14:14:39',\n",
       "        '2020-07-17 14:16:37',        '2020-07-17 14:24:40',\n",
       "        '2020-07-17 14:43:09',        '2020-07-17 14:59:12',\n",
       " ...\n",
       "        '2023-04-19 09:14:02',        '2023-04-26 09:47:06',\n",
       "        '2023-05-09 07:43:36',        '2023-05-10 15:49:07',\n",
       "        '2023-06-05 16:53:34',        '2023-06-09 10:56:47',\n",
       "        '2023-06-12 09:20:40',        '2023-06-12 09:26:56',\n",
       "        '2023-05-15 06:37:00', '2022-01-02 07:36:00.174074']\n",
       "Length: 270, dtype: datetime64[ns]"
      ]
     },
     "execution_count": 90,
     "metadata": {},
     "output_type": "execute_result"
    }
   ],
   "source": [
    "impute_clone = key_data.copy()\n",
    "mean = np.mean(impute_clone['Timestamp[MS]'])\n",
    "print(mean)\n",
    "impute_clone['Timestamp[MS]'] = impute_clone['Timestamp[MS]'].astype(object).where(impute_clone['Timestamp[MS]'].notnull(), np.nan)\n",
    "impute_clone.fillna(value=float(mean), inplace=True)\n",
    "impute_clone['Timestamp'] = impute_clone['Timestamp[MS]'].apply(lambda x: pd.Timestamp.fromtimestamp(x))\n",
    "impute_clone['Timestamp'].unique()"
   ]
  },
  {
   "cell_type": "code",
   "execution_count": 93,
   "metadata": {},
   "outputs": [
    {
     "data": {
      "text/html": [
       "<div>\n",
       "<style scoped>\n",
       "    .dataframe tbody tr th:only-of-type {\n",
       "        vertical-align: middle;\n",
       "    }\n",
       "\n",
       "    .dataframe tbody tr th {\n",
       "        vertical-align: top;\n",
       "    }\n",
       "\n",
       "    .dataframe thead th {\n",
       "        text-align: right;\n",
       "    }\n",
       "</style>\n",
       "<table border=\"1\" class=\"dataframe\">\n",
       "  <thead>\n",
       "    <tr style=\"text-align: right;\">\n",
       "      <th></th>\n",
       "      <th>First Name</th>\n",
       "      <th>Last Name</th>\n",
       "      <th>Email Address</th>\n",
       "      <th>Timestamp</th>\n",
       "    </tr>\n",
       "  </thead>\n",
       "  <tbody>\n",
       "    <tr>\n",
       "      <th>46</th>\n",
       "      <td>cdfc4d16d4d6b87c1a2bdbb01aa47ebb5faac6f01ab824...</td>\n",
       "      <td>f31de62e4765a23bba385fe88d2b8f01fe71c3e6a5b05d...</td>\n",
       "      <td>bb6c2037223e8584c4fe3815cbc9e4308d16d4f330e2a8...</td>\n",
       "      <td>2021-06-16 10:31:38</td>\n",
       "    </tr>\n",
       "    <tr>\n",
       "      <th>55</th>\n",
       "      <td>9e60deee6af9ee74df162fe7858dc30e0183ca55761144...</td>\n",
       "      <td>b4672cb87ff350ef828cd72685a9fb34310508bd6b7821...</td>\n",
       "      <td>270c8600cf096099a24bc5b00d233339a5ea46f7b8c73f...</td>\n",
       "      <td>2021-07-14 20:00:00</td>\n",
       "    </tr>\n",
       "    <tr>\n",
       "      <th>67</th>\n",
       "      <td>cb14bf5073ebaf6d9d04b63164b7017b2011d3558fb2f8...</td>\n",
       "      <td>b9ae62ede2dad179198540d5a84bf5e432f8f36c370d90...</td>\n",
       "      <td>70c3430c92aa5234fc9b8ed874273f469a98f2f2c41e97...</td>\n",
       "      <td>2021-08-16 12:49:22</td>\n",
       "    </tr>\n",
       "    <tr>\n",
       "      <th>73</th>\n",
       "      <td>a435e2d26d33b5972b6638363c8dedb38f25166b363b27...</td>\n",
       "      <td>d9aa89fdd15ad5c41d9c128feffe9e07dc828b83f85296...</td>\n",
       "      <td>9b5882f7299bf684b366d5d42bfdd392b6c604769ec2c1...</td>\n",
       "      <td>2021-08-29 06:01:29</td>\n",
       "    </tr>\n",
       "    <tr>\n",
       "      <th>76</th>\n",
       "      <td>edd2916124c93479ced1dd30f618d002478a35eeec25f6...</td>\n",
       "      <td>c3a0de68a2e6d41be6bc64ba1f04e427e1012866900b00...</td>\n",
       "      <td>267322a731d4fbbb2e30ff0baf29a1d8809cb4edac5aec...</td>\n",
       "      <td>2021-08-31 05:54:12</td>\n",
       "    </tr>\n",
       "    <tr>\n",
       "      <th>...</th>\n",
       "      <td>...</td>\n",
       "      <td>...</td>\n",
       "      <td>...</td>\n",
       "      <td>...</td>\n",
       "    </tr>\n",
       "    <tr>\n",
       "      <th>269</th>\n",
       "      <td>093de0b0eeb1edce1def56262d4775111263d9a0a36bb4...</td>\n",
       "      <td>8ad4bcb926dc9dbc2f3a2fd89fca3e602d7a4ce217bc11...</td>\n",
       "      <td>7d870b52d7cf9bb9dfa04906d214695009508381d2ea26...</td>\n",
       "      <td>2023-05-15 06:37:00</td>\n",
       "    </tr>\n",
       "    <tr>\n",
       "      <th>265</th>\n",
       "      <td>3090ad7f5b83a40b050aad6e04d2f663049aca5cf0253e...</td>\n",
       "      <td>6b17e3543fd927d1a98501b267f894050b3d4a56c1607a...</td>\n",
       "      <td>95aeac91012f2eac509741293be01d8bf6c75ad2a7b874...</td>\n",
       "      <td>2023-06-05 16:53:34</td>\n",
       "    </tr>\n",
       "    <tr>\n",
       "      <th>266</th>\n",
       "      <td>190eb3ebae2b41124493ac98ac49717fbd290156ca2e0d...</td>\n",
       "      <td>f581a0ce4c142795193b7b06909ca18b84471012379d54...</td>\n",
       "      <td>96e3c4bbb492c9070922f9af92c77ba7ba418cedbff594...</td>\n",
       "      <td>2023-06-09 10:56:47</td>\n",
       "    </tr>\n",
       "    <tr>\n",
       "      <th>267</th>\n",
       "      <td>5d33424039b4446e006ca13c5f68eaf1fea9d14ad8c605...</td>\n",
       "      <td>e6942dcf79e29371040e00a9c577ea4246477b76f982ae...</td>\n",
       "      <td>f3b26c4350de31d052f8776d1af1eef9147744dc765e30...</td>\n",
       "      <td>2023-06-12 09:20:40</td>\n",
       "    </tr>\n",
       "    <tr>\n",
       "      <th>268</th>\n",
       "      <td>7d8bfa8d2aeb1d7f0b53a723c19eca99859615a80b532c...</td>\n",
       "      <td>3d368a0b9735edb219fa7ee6bcf49aaeea5899c9016fe3...</td>\n",
       "      <td>6259948d6fe56a0f829dbbcfd08d7a6bd46774456c46ba...</td>\n",
       "      <td>2023-06-12 09:26:56</td>\n",
       "    </tr>\n",
       "  </tbody>\n",
       "</table>\n",
       "<p>63 rows × 4 columns</p>\n",
       "</div>"
      ],
      "text/plain": [
       "                                            First Name  \\\n",
       "46   cdfc4d16d4d6b87c1a2bdbb01aa47ebb5faac6f01ab824...   \n",
       "55   9e60deee6af9ee74df162fe7858dc30e0183ca55761144...   \n",
       "67   cb14bf5073ebaf6d9d04b63164b7017b2011d3558fb2f8...   \n",
       "73   a435e2d26d33b5972b6638363c8dedb38f25166b363b27...   \n",
       "76   edd2916124c93479ced1dd30f618d002478a35eeec25f6...   \n",
       "..                                                 ...   \n",
       "269  093de0b0eeb1edce1def56262d4775111263d9a0a36bb4...   \n",
       "265  3090ad7f5b83a40b050aad6e04d2f663049aca5cf0253e...   \n",
       "266  190eb3ebae2b41124493ac98ac49717fbd290156ca2e0d...   \n",
       "267  5d33424039b4446e006ca13c5f68eaf1fea9d14ad8c605...   \n",
       "268  7d8bfa8d2aeb1d7f0b53a723c19eca99859615a80b532c...   \n",
       "\n",
       "                                             Last Name  \\\n",
       "46   f31de62e4765a23bba385fe88d2b8f01fe71c3e6a5b05d...   \n",
       "55   b4672cb87ff350ef828cd72685a9fb34310508bd6b7821...   \n",
       "67   b9ae62ede2dad179198540d5a84bf5e432f8f36c370d90...   \n",
       "73   d9aa89fdd15ad5c41d9c128feffe9e07dc828b83f85296...   \n",
       "76   c3a0de68a2e6d41be6bc64ba1f04e427e1012866900b00...   \n",
       "..                                                 ...   \n",
       "269  8ad4bcb926dc9dbc2f3a2fd89fca3e602d7a4ce217bc11...   \n",
       "265  6b17e3543fd927d1a98501b267f894050b3d4a56c1607a...   \n",
       "266  f581a0ce4c142795193b7b06909ca18b84471012379d54...   \n",
       "267  e6942dcf79e29371040e00a9c577ea4246477b76f982ae...   \n",
       "268  3d368a0b9735edb219fa7ee6bcf49aaeea5899c9016fe3...   \n",
       "\n",
       "                                         Email Address           Timestamp  \n",
       "46   bb6c2037223e8584c4fe3815cbc9e4308d16d4f330e2a8... 2021-06-16 10:31:38  \n",
       "55   270c8600cf096099a24bc5b00d233339a5ea46f7b8c73f... 2021-07-14 20:00:00  \n",
       "67   70c3430c92aa5234fc9b8ed874273f469a98f2f2c41e97... 2021-08-16 12:49:22  \n",
       "73   9b5882f7299bf684b366d5d42bfdd392b6c604769ec2c1... 2021-08-29 06:01:29  \n",
       "76   267322a731d4fbbb2e30ff0baf29a1d8809cb4edac5aec... 2021-08-31 05:54:12  \n",
       "..                                                 ...                 ...  \n",
       "269  7d870b52d7cf9bb9dfa04906d214695009508381d2ea26... 2023-05-15 06:37:00  \n",
       "265  95aeac91012f2eac509741293be01d8bf6c75ad2a7b874... 2023-06-05 16:53:34  \n",
       "266  96e3c4bbb492c9070922f9af92c77ba7ba418cedbff594... 2023-06-09 10:56:47  \n",
       "267  f3b26c4350de31d052f8776d1af1eef9147744dc765e30... 2023-06-12 09:20:40  \n",
       "268  6259948d6fe56a0f829dbbcfd08d7a6bd46774456c46ba... 2023-06-12 09:26:56  \n",
       "\n",
       "[63 rows x 4 columns]"
      ]
     },
     "execution_count": 93,
     "metadata": {},
     "output_type": "execute_result"
    }
   ],
   "source": [
    "not_received_key = impute_clone[key_data['Received Key'].isna()]\n",
    "\n",
    "q1 = pd.DataFrame(not_received_key[['First Name', 'Last Name', 'Email Address', 'Timestamp']]).sort_values('Timestamp')\n",
    "\n",
    "q1"
   ]
  },
  {
   "cell_type": "code",
   "execution_count": 114,
   "metadata": {},
   "outputs": [
    {
     "data": {
      "application/vnd.plotly.v1+json": {
       "config": {
        "plotlyServerURL": "https://plot.ly"
       },
       "data": [
        {
         "domain": {
          "x": [
           0,
           1
          ],
          "y": [
           0,
           1
          ]
         },
         "hovertemplate": "label=%{label}<br>value=%{value}<extra></extra>",
         "labels": [
          "January",
          "February",
          "March",
          "April",
          "May",
          "June",
          "July",
          "August",
          "September",
          "October",
          "November",
          "December"
         ],
         "legendgroup": "",
         "name": "",
         "showlegend": true,
         "type": "pie",
         "values": [
          5,
          49,
          13,
          7,
          5,
          20,
          46,
          38,
          79,
          3,
          7,
          0
         ]
        }
       ],
       "layout": {
        "legend": {
         "tracegroupgap": 0
        },
        "template": {
         "data": {
          "bar": [
           {
            "error_x": {
             "color": "#f2f5fa"
            },
            "error_y": {
             "color": "#f2f5fa"
            },
            "marker": {
             "line": {
              "color": "rgb(17,17,17)",
              "width": 0.5
             },
             "pattern": {
              "fillmode": "overlay",
              "size": 10,
              "solidity": 0.2
             }
            },
            "type": "bar"
           }
          ],
          "barpolar": [
           {
            "marker": {
             "line": {
              "color": "rgb(17,17,17)",
              "width": 0.5
             },
             "pattern": {
              "fillmode": "overlay",
              "size": 10,
              "solidity": 0.2
             }
            },
            "type": "barpolar"
           }
          ],
          "carpet": [
           {
            "aaxis": {
             "endlinecolor": "#A2B1C6",
             "gridcolor": "#506784",
             "linecolor": "#506784",
             "minorgridcolor": "#506784",
             "startlinecolor": "#A2B1C6"
            },
            "baxis": {
             "endlinecolor": "#A2B1C6",
             "gridcolor": "#506784",
             "linecolor": "#506784",
             "minorgridcolor": "#506784",
             "startlinecolor": "#A2B1C6"
            },
            "type": "carpet"
           }
          ],
          "choropleth": [
           {
            "colorbar": {
             "outlinewidth": 0,
             "ticks": ""
            },
            "type": "choropleth"
           }
          ],
          "contour": [
           {
            "colorbar": {
             "outlinewidth": 0,
             "ticks": ""
            },
            "colorscale": [
             [
              0,
              "#0d0887"
             ],
             [
              0.1111111111111111,
              "#46039f"
             ],
             [
              0.2222222222222222,
              "#7201a8"
             ],
             [
              0.3333333333333333,
              "#9c179e"
             ],
             [
              0.4444444444444444,
              "#bd3786"
             ],
             [
              0.5555555555555556,
              "#d8576b"
             ],
             [
              0.6666666666666666,
              "#ed7953"
             ],
             [
              0.7777777777777778,
              "#fb9f3a"
             ],
             [
              0.8888888888888888,
              "#fdca26"
             ],
             [
              1,
              "#f0f921"
             ]
            ],
            "type": "contour"
           }
          ],
          "contourcarpet": [
           {
            "colorbar": {
             "outlinewidth": 0,
             "ticks": ""
            },
            "type": "contourcarpet"
           }
          ],
          "heatmap": [
           {
            "colorbar": {
             "outlinewidth": 0,
             "ticks": ""
            },
            "colorscale": [
             [
              0,
              "#0d0887"
             ],
             [
              0.1111111111111111,
              "#46039f"
             ],
             [
              0.2222222222222222,
              "#7201a8"
             ],
             [
              0.3333333333333333,
              "#9c179e"
             ],
             [
              0.4444444444444444,
              "#bd3786"
             ],
             [
              0.5555555555555556,
              "#d8576b"
             ],
             [
              0.6666666666666666,
              "#ed7953"
             ],
             [
              0.7777777777777778,
              "#fb9f3a"
             ],
             [
              0.8888888888888888,
              "#fdca26"
             ],
             [
              1,
              "#f0f921"
             ]
            ],
            "type": "heatmap"
           }
          ],
          "heatmapgl": [
           {
            "colorbar": {
             "outlinewidth": 0,
             "ticks": ""
            },
            "colorscale": [
             [
              0,
              "#0d0887"
             ],
             [
              0.1111111111111111,
              "#46039f"
             ],
             [
              0.2222222222222222,
              "#7201a8"
             ],
             [
              0.3333333333333333,
              "#9c179e"
             ],
             [
              0.4444444444444444,
              "#bd3786"
             ],
             [
              0.5555555555555556,
              "#d8576b"
             ],
             [
              0.6666666666666666,
              "#ed7953"
             ],
             [
              0.7777777777777778,
              "#fb9f3a"
             ],
             [
              0.8888888888888888,
              "#fdca26"
             ],
             [
              1,
              "#f0f921"
             ]
            ],
            "type": "heatmapgl"
           }
          ],
          "histogram": [
           {
            "marker": {
             "pattern": {
              "fillmode": "overlay",
              "size": 10,
              "solidity": 0.2
             }
            },
            "type": "histogram"
           }
          ],
          "histogram2d": [
           {
            "colorbar": {
             "outlinewidth": 0,
             "ticks": ""
            },
            "colorscale": [
             [
              0,
              "#0d0887"
             ],
             [
              0.1111111111111111,
              "#46039f"
             ],
             [
              0.2222222222222222,
              "#7201a8"
             ],
             [
              0.3333333333333333,
              "#9c179e"
             ],
             [
              0.4444444444444444,
              "#bd3786"
             ],
             [
              0.5555555555555556,
              "#d8576b"
             ],
             [
              0.6666666666666666,
              "#ed7953"
             ],
             [
              0.7777777777777778,
              "#fb9f3a"
             ],
             [
              0.8888888888888888,
              "#fdca26"
             ],
             [
              1,
              "#f0f921"
             ]
            ],
            "type": "histogram2d"
           }
          ],
          "histogram2dcontour": [
           {
            "colorbar": {
             "outlinewidth": 0,
             "ticks": ""
            },
            "colorscale": [
             [
              0,
              "#0d0887"
             ],
             [
              0.1111111111111111,
              "#46039f"
             ],
             [
              0.2222222222222222,
              "#7201a8"
             ],
             [
              0.3333333333333333,
              "#9c179e"
             ],
             [
              0.4444444444444444,
              "#bd3786"
             ],
             [
              0.5555555555555556,
              "#d8576b"
             ],
             [
              0.6666666666666666,
              "#ed7953"
             ],
             [
              0.7777777777777778,
              "#fb9f3a"
             ],
             [
              0.8888888888888888,
              "#fdca26"
             ],
             [
              1,
              "#f0f921"
             ]
            ],
            "type": "histogram2dcontour"
           }
          ],
          "mesh3d": [
           {
            "colorbar": {
             "outlinewidth": 0,
             "ticks": ""
            },
            "type": "mesh3d"
           }
          ],
          "parcoords": [
           {
            "line": {
             "colorbar": {
              "outlinewidth": 0,
              "ticks": ""
             }
            },
            "type": "parcoords"
           }
          ],
          "pie": [
           {
            "automargin": true,
            "type": "pie"
           }
          ],
          "scatter": [
           {
            "marker": {
             "line": {
              "color": "#283442"
             }
            },
            "type": "scatter"
           }
          ],
          "scatter3d": [
           {
            "line": {
             "colorbar": {
              "outlinewidth": 0,
              "ticks": ""
             }
            },
            "marker": {
             "colorbar": {
              "outlinewidth": 0,
              "ticks": ""
             }
            },
            "type": "scatter3d"
           }
          ],
          "scattercarpet": [
           {
            "marker": {
             "colorbar": {
              "outlinewidth": 0,
              "ticks": ""
             }
            },
            "type": "scattercarpet"
           }
          ],
          "scattergeo": [
           {
            "marker": {
             "colorbar": {
              "outlinewidth": 0,
              "ticks": ""
             }
            },
            "type": "scattergeo"
           }
          ],
          "scattergl": [
           {
            "marker": {
             "line": {
              "color": "#283442"
             }
            },
            "type": "scattergl"
           }
          ],
          "scattermapbox": [
           {
            "marker": {
             "colorbar": {
              "outlinewidth": 0,
              "ticks": ""
             }
            },
            "type": "scattermapbox"
           }
          ],
          "scatterpolar": [
           {
            "marker": {
             "colorbar": {
              "outlinewidth": 0,
              "ticks": ""
             }
            },
            "type": "scatterpolar"
           }
          ],
          "scatterpolargl": [
           {
            "marker": {
             "colorbar": {
              "outlinewidth": 0,
              "ticks": ""
             }
            },
            "type": "scatterpolargl"
           }
          ],
          "scatterternary": [
           {
            "marker": {
             "colorbar": {
              "outlinewidth": 0,
              "ticks": ""
             }
            },
            "type": "scatterternary"
           }
          ],
          "surface": [
           {
            "colorbar": {
             "outlinewidth": 0,
             "ticks": ""
            },
            "colorscale": [
             [
              0,
              "#0d0887"
             ],
             [
              0.1111111111111111,
              "#46039f"
             ],
             [
              0.2222222222222222,
              "#7201a8"
             ],
             [
              0.3333333333333333,
              "#9c179e"
             ],
             [
              0.4444444444444444,
              "#bd3786"
             ],
             [
              0.5555555555555556,
              "#d8576b"
             ],
             [
              0.6666666666666666,
              "#ed7953"
             ],
             [
              0.7777777777777778,
              "#fb9f3a"
             ],
             [
              0.8888888888888888,
              "#fdca26"
             ],
             [
              1,
              "#f0f921"
             ]
            ],
            "type": "surface"
           }
          ],
          "table": [
           {
            "cells": {
             "fill": {
              "color": "#506784"
             },
             "line": {
              "color": "rgb(17,17,17)"
             }
            },
            "header": {
             "fill": {
              "color": "#2a3f5f"
             },
             "line": {
              "color": "rgb(17,17,17)"
             }
            },
            "type": "table"
           }
          ]
         },
         "layout": {
          "annotationdefaults": {
           "arrowcolor": "#f2f5fa",
           "arrowhead": 0,
           "arrowwidth": 1
          },
          "autotypenumbers": "strict",
          "coloraxis": {
           "colorbar": {
            "outlinewidth": 0,
            "ticks": ""
           }
          },
          "colorscale": {
           "diverging": [
            [
             0,
             "#8e0152"
            ],
            [
             0.1,
             "#c51b7d"
            ],
            [
             0.2,
             "#de77ae"
            ],
            [
             0.3,
             "#f1b6da"
            ],
            [
             0.4,
             "#fde0ef"
            ],
            [
             0.5,
             "#f7f7f7"
            ],
            [
             0.6,
             "#e6f5d0"
            ],
            [
             0.7,
             "#b8e186"
            ],
            [
             0.8,
             "#7fbc41"
            ],
            [
             0.9,
             "#4d9221"
            ],
            [
             1,
             "#276419"
            ]
           ],
           "sequential": [
            [
             0,
             "#0d0887"
            ],
            [
             0.1111111111111111,
             "#46039f"
            ],
            [
             0.2222222222222222,
             "#7201a8"
            ],
            [
             0.3333333333333333,
             "#9c179e"
            ],
            [
             0.4444444444444444,
             "#bd3786"
            ],
            [
             0.5555555555555556,
             "#d8576b"
            ],
            [
             0.6666666666666666,
             "#ed7953"
            ],
            [
             0.7777777777777778,
             "#fb9f3a"
            ],
            [
             0.8888888888888888,
             "#fdca26"
            ],
            [
             1,
             "#f0f921"
            ]
           ],
           "sequentialminus": [
            [
             0,
             "#0d0887"
            ],
            [
             0.1111111111111111,
             "#46039f"
            ],
            [
             0.2222222222222222,
             "#7201a8"
            ],
            [
             0.3333333333333333,
             "#9c179e"
            ],
            [
             0.4444444444444444,
             "#bd3786"
            ],
            [
             0.5555555555555556,
             "#d8576b"
            ],
            [
             0.6666666666666666,
             "#ed7953"
            ],
            [
             0.7777777777777778,
             "#fb9f3a"
            ],
            [
             0.8888888888888888,
             "#fdca26"
            ],
            [
             1,
             "#f0f921"
            ]
           ]
          },
          "colorway": [
           "#636efa",
           "#EF553B",
           "#00cc96",
           "#ab63fa",
           "#FFA15A",
           "#19d3f3",
           "#FF6692",
           "#B6E880",
           "#FF97FF",
           "#FECB52"
          ],
          "font": {
           "color": "#f2f5fa"
          },
          "geo": {
           "bgcolor": "rgb(17,17,17)",
           "lakecolor": "rgb(17,17,17)",
           "landcolor": "rgb(17,17,17)",
           "showlakes": true,
           "showland": true,
           "subunitcolor": "#506784"
          },
          "hoverlabel": {
           "align": "left"
          },
          "hovermode": "closest",
          "mapbox": {
           "style": "dark"
          },
          "paper_bgcolor": "rgb(17,17,17)",
          "plot_bgcolor": "rgb(17,17,17)",
          "polar": {
           "angularaxis": {
            "gridcolor": "#506784",
            "linecolor": "#506784",
            "ticks": ""
           },
           "bgcolor": "rgb(17,17,17)",
           "radialaxis": {
            "gridcolor": "#506784",
            "linecolor": "#506784",
            "ticks": ""
           }
          },
          "scene": {
           "xaxis": {
            "backgroundcolor": "rgb(17,17,17)",
            "gridcolor": "#506784",
            "gridwidth": 2,
            "linecolor": "#506784",
            "showbackground": true,
            "ticks": "",
            "zerolinecolor": "#C8D4E3"
           },
           "yaxis": {
            "backgroundcolor": "rgb(17,17,17)",
            "gridcolor": "#506784",
            "gridwidth": 2,
            "linecolor": "#506784",
            "showbackground": true,
            "ticks": "",
            "zerolinecolor": "#C8D4E3"
           },
           "zaxis": {
            "backgroundcolor": "rgb(17,17,17)",
            "gridcolor": "#506784",
            "gridwidth": 2,
            "linecolor": "#506784",
            "showbackground": true,
            "ticks": "",
            "zerolinecolor": "#C8D4E3"
           }
          },
          "shapedefaults": {
           "line": {
            "color": "#f2f5fa"
           }
          },
          "sliderdefaults": {
           "bgcolor": "#C8D4E3",
           "bordercolor": "rgb(17,17,17)",
           "borderwidth": 1,
           "tickwidth": 0
          },
          "ternary": {
           "aaxis": {
            "gridcolor": "#506784",
            "linecolor": "#506784",
            "ticks": ""
           },
           "baxis": {
            "gridcolor": "#506784",
            "linecolor": "#506784",
            "ticks": ""
           },
           "bgcolor": "rgb(17,17,17)",
           "caxis": {
            "gridcolor": "#506784",
            "linecolor": "#506784",
            "ticks": ""
           }
          },
          "title": {
           "x": 0.05
          },
          "updatemenudefaults": {
           "bgcolor": "#506784",
           "borderwidth": 0
          },
          "xaxis": {
           "automargin": true,
           "gridcolor": "#283442",
           "linecolor": "#506784",
           "ticks": "",
           "title": {
            "standoff": 15
           },
           "zerolinecolor": "#283442",
           "zerolinewidth": 2
          },
          "yaxis": {
           "automargin": true,
           "gridcolor": "#283442",
           "linecolor": "#506784",
           "ticks": "",
           "title": {
            "standoff": 15
           },
           "zerolinecolor": "#283442",
           "zerolinewidth": 2
          }
         }
        },
        "title": {
         "text": "Building Key Requests Organized by Months"
        }
       }
      }
     },
     "metadata": {},
     "output_type": "display_data"
    }
   ],
   "source": [
    "q2 = impute_clone.copy()\n",
    "\n",
    "q2['Month_Submitted'] = q2['Timestamp'].apply(lambda x: x.month)\n",
    "\n",
    "months = {\n",
    "    1: 0,\n",
    "    2: 0,\n",
    "    3: 0,\n",
    "    4: 0,\n",
    "    5: 0,\n",
    "    6: 0,\n",
    "    7: 0,\n",
    "    8: 0,\n",
    "    9: 0,\n",
    "    10: 0,\n",
    "    11: 0,\n",
    "    12: 0\n",
    "}\n",
    "\n",
    "for each_month in months.keys():\n",
    "    months[each_month] = len(q2[q2['Month_Submitted'] == each_month])\n",
    "\n",
    "month_names = ['January', 'February', 'March', 'April', 'May', 'June', 'July', 'August', 'September', 'October', 'November', 'December']\n",
    "\n",
    "px.pie(values=months.values(), names=month_names, title=\"Building Key Requests Organized by Months\", template=\"plotly_dark\")"
   ]
  },
  {
   "cell_type": "code",
   "execution_count": 125,
   "metadata": {},
   "outputs": [
    {
     "data": {
      "application/vnd.plotly.v1+json": {
       "config": {
        "plotlyServerURL": "https://plot.ly"
       },
       "data": [
        {
         "domain": {
          "x": [
           0,
           1
          ],
          "y": [
           0,
           1
          ]
         },
         "hovertemplate": "label=%{label}<br>value=%{value}<extra></extra>",
         "labels": [
          "9b2d5b4678781e53038e91ea5324530a03f27dc1d0e5f6c9bc9d493a23be9de0",
          "6731633a1e247fc6607328fd22d510b31b1266b5a9809d7b42e21a18eb2a1101",
          "30efda8f5e82b7fcb232b80211221947581a1c41143dc7f66be614671195430c",
          "b075986f070db68caca60a3acda993a81f1dcf5563903e5bebedc4f8fdb5a44e",
          "a343d300068c5448e78f1b43a43c02f9754828536ea188dee3290e54c249fd33",
          "34ebdefb8e74cd64f70f23edbeed3c67e08a23c2b3b196979a5f3b271b5cfb2d",
          "ccb10f005d7d718d24edc7e04e3b2e92d9d9a313a86de25f84057ddd6dab8de8",
          "c1e9958e03c615c5ec8f9814a47560caa4c39240bcd2e62fefd4d92789feb98b",
          "0dd92c78b3057c35fec440d9a5bd6a391279687395c3a401fb7299d2e253a243",
          "b5839e29a79474fdfb9ba6f4d332a6643934d4809e1f77d64902b481208460ab"
         ],
         "legendgroup": "",
         "name": "",
         "showlegend": true,
         "type": "pie",
         "values": [
          8,
          4,
          3,
          3,
          3,
          3,
          3,
          3,
          3,
          3
         ]
        }
       ],
       "layout": {
        "legend": {
         "tracegroupgap": 0
        },
        "template": {
         "data": {
          "bar": [
           {
            "error_x": {
             "color": "#2a3f5f"
            },
            "error_y": {
             "color": "#2a3f5f"
            },
            "marker": {
             "line": {
              "color": "#E5ECF6",
              "width": 0.5
             },
             "pattern": {
              "fillmode": "overlay",
              "size": 10,
              "solidity": 0.2
             }
            },
            "type": "bar"
           }
          ],
          "barpolar": [
           {
            "marker": {
             "line": {
              "color": "#E5ECF6",
              "width": 0.5
             },
             "pattern": {
              "fillmode": "overlay",
              "size": 10,
              "solidity": 0.2
             }
            },
            "type": "barpolar"
           }
          ],
          "carpet": [
           {
            "aaxis": {
             "endlinecolor": "#2a3f5f",
             "gridcolor": "white",
             "linecolor": "white",
             "minorgridcolor": "white",
             "startlinecolor": "#2a3f5f"
            },
            "baxis": {
             "endlinecolor": "#2a3f5f",
             "gridcolor": "white",
             "linecolor": "white",
             "minorgridcolor": "white",
             "startlinecolor": "#2a3f5f"
            },
            "type": "carpet"
           }
          ],
          "choropleth": [
           {
            "colorbar": {
             "outlinewidth": 0,
             "ticks": ""
            },
            "type": "choropleth"
           }
          ],
          "contour": [
           {
            "colorbar": {
             "outlinewidth": 0,
             "ticks": ""
            },
            "colorscale": [
             [
              0,
              "#0d0887"
             ],
             [
              0.1111111111111111,
              "#46039f"
             ],
             [
              0.2222222222222222,
              "#7201a8"
             ],
             [
              0.3333333333333333,
              "#9c179e"
             ],
             [
              0.4444444444444444,
              "#bd3786"
             ],
             [
              0.5555555555555556,
              "#d8576b"
             ],
             [
              0.6666666666666666,
              "#ed7953"
             ],
             [
              0.7777777777777778,
              "#fb9f3a"
             ],
             [
              0.8888888888888888,
              "#fdca26"
             ],
             [
              1,
              "#f0f921"
             ]
            ],
            "type": "contour"
           }
          ],
          "contourcarpet": [
           {
            "colorbar": {
             "outlinewidth": 0,
             "ticks": ""
            },
            "type": "contourcarpet"
           }
          ],
          "heatmap": [
           {
            "colorbar": {
             "outlinewidth": 0,
             "ticks": ""
            },
            "colorscale": [
             [
              0,
              "#0d0887"
             ],
             [
              0.1111111111111111,
              "#46039f"
             ],
             [
              0.2222222222222222,
              "#7201a8"
             ],
             [
              0.3333333333333333,
              "#9c179e"
             ],
             [
              0.4444444444444444,
              "#bd3786"
             ],
             [
              0.5555555555555556,
              "#d8576b"
             ],
             [
              0.6666666666666666,
              "#ed7953"
             ],
             [
              0.7777777777777778,
              "#fb9f3a"
             ],
             [
              0.8888888888888888,
              "#fdca26"
             ],
             [
              1,
              "#f0f921"
             ]
            ],
            "type": "heatmap"
           }
          ],
          "heatmapgl": [
           {
            "colorbar": {
             "outlinewidth": 0,
             "ticks": ""
            },
            "colorscale": [
             [
              0,
              "#0d0887"
             ],
             [
              0.1111111111111111,
              "#46039f"
             ],
             [
              0.2222222222222222,
              "#7201a8"
             ],
             [
              0.3333333333333333,
              "#9c179e"
             ],
             [
              0.4444444444444444,
              "#bd3786"
             ],
             [
              0.5555555555555556,
              "#d8576b"
             ],
             [
              0.6666666666666666,
              "#ed7953"
             ],
             [
              0.7777777777777778,
              "#fb9f3a"
             ],
             [
              0.8888888888888888,
              "#fdca26"
             ],
             [
              1,
              "#f0f921"
             ]
            ],
            "type": "heatmapgl"
           }
          ],
          "histogram": [
           {
            "marker": {
             "pattern": {
              "fillmode": "overlay",
              "size": 10,
              "solidity": 0.2
             }
            },
            "type": "histogram"
           }
          ],
          "histogram2d": [
           {
            "colorbar": {
             "outlinewidth": 0,
             "ticks": ""
            },
            "colorscale": [
             [
              0,
              "#0d0887"
             ],
             [
              0.1111111111111111,
              "#46039f"
             ],
             [
              0.2222222222222222,
              "#7201a8"
             ],
             [
              0.3333333333333333,
              "#9c179e"
             ],
             [
              0.4444444444444444,
              "#bd3786"
             ],
             [
              0.5555555555555556,
              "#d8576b"
             ],
             [
              0.6666666666666666,
              "#ed7953"
             ],
             [
              0.7777777777777778,
              "#fb9f3a"
             ],
             [
              0.8888888888888888,
              "#fdca26"
             ],
             [
              1,
              "#f0f921"
             ]
            ],
            "type": "histogram2d"
           }
          ],
          "histogram2dcontour": [
           {
            "colorbar": {
             "outlinewidth": 0,
             "ticks": ""
            },
            "colorscale": [
             [
              0,
              "#0d0887"
             ],
             [
              0.1111111111111111,
              "#46039f"
             ],
             [
              0.2222222222222222,
              "#7201a8"
             ],
             [
              0.3333333333333333,
              "#9c179e"
             ],
             [
              0.4444444444444444,
              "#bd3786"
             ],
             [
              0.5555555555555556,
              "#d8576b"
             ],
             [
              0.6666666666666666,
              "#ed7953"
             ],
             [
              0.7777777777777778,
              "#fb9f3a"
             ],
             [
              0.8888888888888888,
              "#fdca26"
             ],
             [
              1,
              "#f0f921"
             ]
            ],
            "type": "histogram2dcontour"
           }
          ],
          "mesh3d": [
           {
            "colorbar": {
             "outlinewidth": 0,
             "ticks": ""
            },
            "type": "mesh3d"
           }
          ],
          "parcoords": [
           {
            "line": {
             "colorbar": {
              "outlinewidth": 0,
              "ticks": ""
             }
            },
            "type": "parcoords"
           }
          ],
          "pie": [
           {
            "automargin": true,
            "type": "pie"
           }
          ],
          "scatter": [
           {
            "fillpattern": {
             "fillmode": "overlay",
             "size": 10,
             "solidity": 0.2
            },
            "type": "scatter"
           }
          ],
          "scatter3d": [
           {
            "line": {
             "colorbar": {
              "outlinewidth": 0,
              "ticks": ""
             }
            },
            "marker": {
             "colorbar": {
              "outlinewidth": 0,
              "ticks": ""
             }
            },
            "type": "scatter3d"
           }
          ],
          "scattercarpet": [
           {
            "marker": {
             "colorbar": {
              "outlinewidth": 0,
              "ticks": ""
             }
            },
            "type": "scattercarpet"
           }
          ],
          "scattergeo": [
           {
            "marker": {
             "colorbar": {
              "outlinewidth": 0,
              "ticks": ""
             }
            },
            "type": "scattergeo"
           }
          ],
          "scattergl": [
           {
            "marker": {
             "colorbar": {
              "outlinewidth": 0,
              "ticks": ""
             }
            },
            "type": "scattergl"
           }
          ],
          "scattermapbox": [
           {
            "marker": {
             "colorbar": {
              "outlinewidth": 0,
              "ticks": ""
             }
            },
            "type": "scattermapbox"
           }
          ],
          "scatterpolar": [
           {
            "marker": {
             "colorbar": {
              "outlinewidth": 0,
              "ticks": ""
             }
            },
            "type": "scatterpolar"
           }
          ],
          "scatterpolargl": [
           {
            "marker": {
             "colorbar": {
              "outlinewidth": 0,
              "ticks": ""
             }
            },
            "type": "scatterpolargl"
           }
          ],
          "scatterternary": [
           {
            "marker": {
             "colorbar": {
              "outlinewidth": 0,
              "ticks": ""
             }
            },
            "type": "scatterternary"
           }
          ],
          "surface": [
           {
            "colorbar": {
             "outlinewidth": 0,
             "ticks": ""
            },
            "colorscale": [
             [
              0,
              "#0d0887"
             ],
             [
              0.1111111111111111,
              "#46039f"
             ],
             [
              0.2222222222222222,
              "#7201a8"
             ],
             [
              0.3333333333333333,
              "#9c179e"
             ],
             [
              0.4444444444444444,
              "#bd3786"
             ],
             [
              0.5555555555555556,
              "#d8576b"
             ],
             [
              0.6666666666666666,
              "#ed7953"
             ],
             [
              0.7777777777777778,
              "#fb9f3a"
             ],
             [
              0.8888888888888888,
              "#fdca26"
             ],
             [
              1,
              "#f0f921"
             ]
            ],
            "type": "surface"
           }
          ],
          "table": [
           {
            "cells": {
             "fill": {
              "color": "#EBF0F8"
             },
             "line": {
              "color": "white"
             }
            },
            "header": {
             "fill": {
              "color": "#C8D4E3"
             },
             "line": {
              "color": "white"
             }
            },
            "type": "table"
           }
          ]
         },
         "layout": {
          "annotationdefaults": {
           "arrowcolor": "#2a3f5f",
           "arrowhead": 0,
           "arrowwidth": 1
          },
          "autotypenumbers": "strict",
          "coloraxis": {
           "colorbar": {
            "outlinewidth": 0,
            "ticks": ""
           }
          },
          "colorscale": {
           "diverging": [
            [
             0,
             "#8e0152"
            ],
            [
             0.1,
             "#c51b7d"
            ],
            [
             0.2,
             "#de77ae"
            ],
            [
             0.3,
             "#f1b6da"
            ],
            [
             0.4,
             "#fde0ef"
            ],
            [
             0.5,
             "#f7f7f7"
            ],
            [
             0.6,
             "#e6f5d0"
            ],
            [
             0.7,
             "#b8e186"
            ],
            [
             0.8,
             "#7fbc41"
            ],
            [
             0.9,
             "#4d9221"
            ],
            [
             1,
             "#276419"
            ]
           ],
           "sequential": [
            [
             0,
             "#0d0887"
            ],
            [
             0.1111111111111111,
             "#46039f"
            ],
            [
             0.2222222222222222,
             "#7201a8"
            ],
            [
             0.3333333333333333,
             "#9c179e"
            ],
            [
             0.4444444444444444,
             "#bd3786"
            ],
            [
             0.5555555555555556,
             "#d8576b"
            ],
            [
             0.6666666666666666,
             "#ed7953"
            ],
            [
             0.7777777777777778,
             "#fb9f3a"
            ],
            [
             0.8888888888888888,
             "#fdca26"
            ],
            [
             1,
             "#f0f921"
            ]
           ],
           "sequentialminus": [
            [
             0,
             "#0d0887"
            ],
            [
             0.1111111111111111,
             "#46039f"
            ],
            [
             0.2222222222222222,
             "#7201a8"
            ],
            [
             0.3333333333333333,
             "#9c179e"
            ],
            [
             0.4444444444444444,
             "#bd3786"
            ],
            [
             0.5555555555555556,
             "#d8576b"
            ],
            [
             0.6666666666666666,
             "#ed7953"
            ],
            [
             0.7777777777777778,
             "#fb9f3a"
            ],
            [
             0.8888888888888888,
             "#fdca26"
            ],
            [
             1,
             "#f0f921"
            ]
           ]
          },
          "colorway": [
           "#636efa",
           "#EF553B",
           "#00cc96",
           "#ab63fa",
           "#FFA15A",
           "#19d3f3",
           "#FF6692",
           "#B6E880",
           "#FF97FF",
           "#FECB52"
          ],
          "font": {
           "color": "#2a3f5f"
          },
          "geo": {
           "bgcolor": "white",
           "lakecolor": "white",
           "landcolor": "#E5ECF6",
           "showlakes": true,
           "showland": true,
           "subunitcolor": "white"
          },
          "hoverlabel": {
           "align": "left"
          },
          "hovermode": "closest",
          "mapbox": {
           "style": "light"
          },
          "paper_bgcolor": "white",
          "plot_bgcolor": "#E5ECF6",
          "polar": {
           "angularaxis": {
            "gridcolor": "white",
            "linecolor": "white",
            "ticks": ""
           },
           "bgcolor": "#E5ECF6",
           "radialaxis": {
            "gridcolor": "white",
            "linecolor": "white",
            "ticks": ""
           }
          },
          "scene": {
           "xaxis": {
            "backgroundcolor": "#E5ECF6",
            "gridcolor": "white",
            "gridwidth": 2,
            "linecolor": "white",
            "showbackground": true,
            "ticks": "",
            "zerolinecolor": "white"
           },
           "yaxis": {
            "backgroundcolor": "#E5ECF6",
            "gridcolor": "white",
            "gridwidth": 2,
            "linecolor": "white",
            "showbackground": true,
            "ticks": "",
            "zerolinecolor": "white"
           },
           "zaxis": {
            "backgroundcolor": "#E5ECF6",
            "gridcolor": "white",
            "gridwidth": 2,
            "linecolor": "white",
            "showbackground": true,
            "ticks": "",
            "zerolinecolor": "white"
           }
          },
          "shapedefaults": {
           "line": {
            "color": "#2a3f5f"
           }
          },
          "ternary": {
           "aaxis": {
            "gridcolor": "white",
            "linecolor": "white",
            "ticks": ""
           },
           "baxis": {
            "gridcolor": "white",
            "linecolor": "white",
            "ticks": ""
           },
           "bgcolor": "#E5ECF6",
           "caxis": {
            "gridcolor": "white",
            "linecolor": "white",
            "ticks": ""
           }
          },
          "title": {
           "x": 0.05
          },
          "xaxis": {
           "automargin": true,
           "gridcolor": "white",
           "linecolor": "white",
           "ticks": "",
           "title": {
            "standoff": 15
           },
           "zerolinecolor": "white",
           "zerolinewidth": 2
          },
          "yaxis": {
           "automargin": true,
           "gridcolor": "white",
           "linecolor": "white",
           "ticks": "",
           "title": {
            "standoff": 15
           },
           "zerolinecolor": "white",
           "zerolinewidth": 2
          }
         }
        },
        "title": {
         "text": "People with the most building key requests"
        }
       }
      }
     },
     "metadata": {},
     "output_type": "display_data"
    }
   ],
   "source": [
    "q3 = q2.copy()\n",
    "\n",
    "all_ids = q3['UDID #'].tolist()\n",
    "ids_set = set(all_ids)\n",
    "\n",
    "ids_count = {}\n",
    "\n",
    "for each_name in all_ids:\n",
    "    if each_name in ids_set:\n",
    "        if each_name in ids_count:\n",
    "            ids_count[each_name] += 1\n",
    "        else:\n",
    "            ids_count[each_name] = 1\n",
    "\n",
    "top_10 = sorted(ids_count.items(), key=lambda x: x[1], reverse=True)[:10]\n",
    "top_10 = [x[0] for x in top_10]\n",
    "top_10_values = [x[1] for x in top_10]\n",
    "\n",
    "px.pie(values=top_10_values, names=top_10, title=\"People with the most building key requests\")"
   ]
  },
  {
   "cell_type": "code",
   "execution_count": 142,
   "metadata": {},
   "outputs": [
    {
     "data": {
      "application/vnd.plotly.v1+json": {
       "config": {
        "plotlyServerURL": "https://plot.ly"
       },
       "data": [
        {
         "domain": {
          "x": [
           0,
           1
          ],
          "y": [
           0,
           1
          ]
         },
         "hovertemplate": "label=%{label}<br>value=%{value}<extra></extra>",
         "labels": [
          "Sunita Chandrasekaran",
          "Matthew Saponaro",
          "Chandra Kambhamettu",
          "Debra Yarrington",
          "Lori Pollock",
          "Dr. Bart",
          "Rui Zhang",
          "Xi Peng",
          "Keith Decker",
          "Chien-Chung Shen"
         ],
         "legendgroup": "",
         "name": "",
         "showlegend": true,
         "type": "pie",
         "values": [
          25,
          12,
          10,
          10,
          8,
          7,
          6,
          6,
          5,
          5
         ]
        }
       ],
       "layout": {
        "legend": {
         "tracegroupgap": 0
        },
        "template": {
         "data": {
          "bar": [
           {
            "error_x": {
             "color": "#2a3f5f"
            },
            "error_y": {
             "color": "#2a3f5f"
            },
            "marker": {
             "line": {
              "color": "#E5ECF6",
              "width": 0.5
             },
             "pattern": {
              "fillmode": "overlay",
              "size": 10,
              "solidity": 0.2
             }
            },
            "type": "bar"
           }
          ],
          "barpolar": [
           {
            "marker": {
             "line": {
              "color": "#E5ECF6",
              "width": 0.5
             },
             "pattern": {
              "fillmode": "overlay",
              "size": 10,
              "solidity": 0.2
             }
            },
            "type": "barpolar"
           }
          ],
          "carpet": [
           {
            "aaxis": {
             "endlinecolor": "#2a3f5f",
             "gridcolor": "white",
             "linecolor": "white",
             "minorgridcolor": "white",
             "startlinecolor": "#2a3f5f"
            },
            "baxis": {
             "endlinecolor": "#2a3f5f",
             "gridcolor": "white",
             "linecolor": "white",
             "minorgridcolor": "white",
             "startlinecolor": "#2a3f5f"
            },
            "type": "carpet"
           }
          ],
          "choropleth": [
           {
            "colorbar": {
             "outlinewidth": 0,
             "ticks": ""
            },
            "type": "choropleth"
           }
          ],
          "contour": [
           {
            "colorbar": {
             "outlinewidth": 0,
             "ticks": ""
            },
            "colorscale": [
             [
              0,
              "#0d0887"
             ],
             [
              0.1111111111111111,
              "#46039f"
             ],
             [
              0.2222222222222222,
              "#7201a8"
             ],
             [
              0.3333333333333333,
              "#9c179e"
             ],
             [
              0.4444444444444444,
              "#bd3786"
             ],
             [
              0.5555555555555556,
              "#d8576b"
             ],
             [
              0.6666666666666666,
              "#ed7953"
             ],
             [
              0.7777777777777778,
              "#fb9f3a"
             ],
             [
              0.8888888888888888,
              "#fdca26"
             ],
             [
              1,
              "#f0f921"
             ]
            ],
            "type": "contour"
           }
          ],
          "contourcarpet": [
           {
            "colorbar": {
             "outlinewidth": 0,
             "ticks": ""
            },
            "type": "contourcarpet"
           }
          ],
          "heatmap": [
           {
            "colorbar": {
             "outlinewidth": 0,
             "ticks": ""
            },
            "colorscale": [
             [
              0,
              "#0d0887"
             ],
             [
              0.1111111111111111,
              "#46039f"
             ],
             [
              0.2222222222222222,
              "#7201a8"
             ],
             [
              0.3333333333333333,
              "#9c179e"
             ],
             [
              0.4444444444444444,
              "#bd3786"
             ],
             [
              0.5555555555555556,
              "#d8576b"
             ],
             [
              0.6666666666666666,
              "#ed7953"
             ],
             [
              0.7777777777777778,
              "#fb9f3a"
             ],
             [
              0.8888888888888888,
              "#fdca26"
             ],
             [
              1,
              "#f0f921"
             ]
            ],
            "type": "heatmap"
           }
          ],
          "heatmapgl": [
           {
            "colorbar": {
             "outlinewidth": 0,
             "ticks": ""
            },
            "colorscale": [
             [
              0,
              "#0d0887"
             ],
             [
              0.1111111111111111,
              "#46039f"
             ],
             [
              0.2222222222222222,
              "#7201a8"
             ],
             [
              0.3333333333333333,
              "#9c179e"
             ],
             [
              0.4444444444444444,
              "#bd3786"
             ],
             [
              0.5555555555555556,
              "#d8576b"
             ],
             [
              0.6666666666666666,
              "#ed7953"
             ],
             [
              0.7777777777777778,
              "#fb9f3a"
             ],
             [
              0.8888888888888888,
              "#fdca26"
             ],
             [
              1,
              "#f0f921"
             ]
            ],
            "type": "heatmapgl"
           }
          ],
          "histogram": [
           {
            "marker": {
             "pattern": {
              "fillmode": "overlay",
              "size": 10,
              "solidity": 0.2
             }
            },
            "type": "histogram"
           }
          ],
          "histogram2d": [
           {
            "colorbar": {
             "outlinewidth": 0,
             "ticks": ""
            },
            "colorscale": [
             [
              0,
              "#0d0887"
             ],
             [
              0.1111111111111111,
              "#46039f"
             ],
             [
              0.2222222222222222,
              "#7201a8"
             ],
             [
              0.3333333333333333,
              "#9c179e"
             ],
             [
              0.4444444444444444,
              "#bd3786"
             ],
             [
              0.5555555555555556,
              "#d8576b"
             ],
             [
              0.6666666666666666,
              "#ed7953"
             ],
             [
              0.7777777777777778,
              "#fb9f3a"
             ],
             [
              0.8888888888888888,
              "#fdca26"
             ],
             [
              1,
              "#f0f921"
             ]
            ],
            "type": "histogram2d"
           }
          ],
          "histogram2dcontour": [
           {
            "colorbar": {
             "outlinewidth": 0,
             "ticks": ""
            },
            "colorscale": [
             [
              0,
              "#0d0887"
             ],
             [
              0.1111111111111111,
              "#46039f"
             ],
             [
              0.2222222222222222,
              "#7201a8"
             ],
             [
              0.3333333333333333,
              "#9c179e"
             ],
             [
              0.4444444444444444,
              "#bd3786"
             ],
             [
              0.5555555555555556,
              "#d8576b"
             ],
             [
              0.6666666666666666,
              "#ed7953"
             ],
             [
              0.7777777777777778,
              "#fb9f3a"
             ],
             [
              0.8888888888888888,
              "#fdca26"
             ],
             [
              1,
              "#f0f921"
             ]
            ],
            "type": "histogram2dcontour"
           }
          ],
          "mesh3d": [
           {
            "colorbar": {
             "outlinewidth": 0,
             "ticks": ""
            },
            "type": "mesh3d"
           }
          ],
          "parcoords": [
           {
            "line": {
             "colorbar": {
              "outlinewidth": 0,
              "ticks": ""
             }
            },
            "type": "parcoords"
           }
          ],
          "pie": [
           {
            "automargin": true,
            "type": "pie"
           }
          ],
          "scatter": [
           {
            "fillpattern": {
             "fillmode": "overlay",
             "size": 10,
             "solidity": 0.2
            },
            "type": "scatter"
           }
          ],
          "scatter3d": [
           {
            "line": {
             "colorbar": {
              "outlinewidth": 0,
              "ticks": ""
             }
            },
            "marker": {
             "colorbar": {
              "outlinewidth": 0,
              "ticks": ""
             }
            },
            "type": "scatter3d"
           }
          ],
          "scattercarpet": [
           {
            "marker": {
             "colorbar": {
              "outlinewidth": 0,
              "ticks": ""
             }
            },
            "type": "scattercarpet"
           }
          ],
          "scattergeo": [
           {
            "marker": {
             "colorbar": {
              "outlinewidth": 0,
              "ticks": ""
             }
            },
            "type": "scattergeo"
           }
          ],
          "scattergl": [
           {
            "marker": {
             "colorbar": {
              "outlinewidth": 0,
              "ticks": ""
             }
            },
            "type": "scattergl"
           }
          ],
          "scattermapbox": [
           {
            "marker": {
             "colorbar": {
              "outlinewidth": 0,
              "ticks": ""
             }
            },
            "type": "scattermapbox"
           }
          ],
          "scatterpolar": [
           {
            "marker": {
             "colorbar": {
              "outlinewidth": 0,
              "ticks": ""
             }
            },
            "type": "scatterpolar"
           }
          ],
          "scatterpolargl": [
           {
            "marker": {
             "colorbar": {
              "outlinewidth": 0,
              "ticks": ""
             }
            },
            "type": "scatterpolargl"
           }
          ],
          "scatterternary": [
           {
            "marker": {
             "colorbar": {
              "outlinewidth": 0,
              "ticks": ""
             }
            },
            "type": "scatterternary"
           }
          ],
          "surface": [
           {
            "colorbar": {
             "outlinewidth": 0,
             "ticks": ""
            },
            "colorscale": [
             [
              0,
              "#0d0887"
             ],
             [
              0.1111111111111111,
              "#46039f"
             ],
             [
              0.2222222222222222,
              "#7201a8"
             ],
             [
              0.3333333333333333,
              "#9c179e"
             ],
             [
              0.4444444444444444,
              "#bd3786"
             ],
             [
              0.5555555555555556,
              "#d8576b"
             ],
             [
              0.6666666666666666,
              "#ed7953"
             ],
             [
              0.7777777777777778,
              "#fb9f3a"
             ],
             [
              0.8888888888888888,
              "#fdca26"
             ],
             [
              1,
              "#f0f921"
             ]
            ],
            "type": "surface"
           }
          ],
          "table": [
           {
            "cells": {
             "fill": {
              "color": "#EBF0F8"
             },
             "line": {
              "color": "white"
             }
            },
            "header": {
             "fill": {
              "color": "#C8D4E3"
             },
             "line": {
              "color": "white"
             }
            },
            "type": "table"
           }
          ]
         },
         "layout": {
          "annotationdefaults": {
           "arrowcolor": "#2a3f5f",
           "arrowhead": 0,
           "arrowwidth": 1
          },
          "autotypenumbers": "strict",
          "coloraxis": {
           "colorbar": {
            "outlinewidth": 0,
            "ticks": ""
           }
          },
          "colorscale": {
           "diverging": [
            [
             0,
             "#8e0152"
            ],
            [
             0.1,
             "#c51b7d"
            ],
            [
             0.2,
             "#de77ae"
            ],
            [
             0.3,
             "#f1b6da"
            ],
            [
             0.4,
             "#fde0ef"
            ],
            [
             0.5,
             "#f7f7f7"
            ],
            [
             0.6,
             "#e6f5d0"
            ],
            [
             0.7,
             "#b8e186"
            ],
            [
             0.8,
             "#7fbc41"
            ],
            [
             0.9,
             "#4d9221"
            ],
            [
             1,
             "#276419"
            ]
           ],
           "sequential": [
            [
             0,
             "#0d0887"
            ],
            [
             0.1111111111111111,
             "#46039f"
            ],
            [
             0.2222222222222222,
             "#7201a8"
            ],
            [
             0.3333333333333333,
             "#9c179e"
            ],
            [
             0.4444444444444444,
             "#bd3786"
            ],
            [
             0.5555555555555556,
             "#d8576b"
            ],
            [
             0.6666666666666666,
             "#ed7953"
            ],
            [
             0.7777777777777778,
             "#fb9f3a"
            ],
            [
             0.8888888888888888,
             "#fdca26"
            ],
            [
             1,
             "#f0f921"
            ]
           ],
           "sequentialminus": [
            [
             0,
             "#0d0887"
            ],
            [
             0.1111111111111111,
             "#46039f"
            ],
            [
             0.2222222222222222,
             "#7201a8"
            ],
            [
             0.3333333333333333,
             "#9c179e"
            ],
            [
             0.4444444444444444,
             "#bd3786"
            ],
            [
             0.5555555555555556,
             "#d8576b"
            ],
            [
             0.6666666666666666,
             "#ed7953"
            ],
            [
             0.7777777777777778,
             "#fb9f3a"
            ],
            [
             0.8888888888888888,
             "#fdca26"
            ],
            [
             1,
             "#f0f921"
            ]
           ]
          },
          "colorway": [
           "#636efa",
           "#EF553B",
           "#00cc96",
           "#ab63fa",
           "#FFA15A",
           "#19d3f3",
           "#FF6692",
           "#B6E880",
           "#FF97FF",
           "#FECB52"
          ],
          "font": {
           "color": "#2a3f5f"
          },
          "geo": {
           "bgcolor": "white",
           "lakecolor": "white",
           "landcolor": "#E5ECF6",
           "showlakes": true,
           "showland": true,
           "subunitcolor": "white"
          },
          "hoverlabel": {
           "align": "left"
          },
          "hovermode": "closest",
          "mapbox": {
           "style": "light"
          },
          "paper_bgcolor": "white",
          "plot_bgcolor": "#E5ECF6",
          "polar": {
           "angularaxis": {
            "gridcolor": "white",
            "linecolor": "white",
            "ticks": ""
           },
           "bgcolor": "#E5ECF6",
           "radialaxis": {
            "gridcolor": "white",
            "linecolor": "white",
            "ticks": ""
           }
          },
          "scene": {
           "xaxis": {
            "backgroundcolor": "#E5ECF6",
            "gridcolor": "white",
            "gridwidth": 2,
            "linecolor": "white",
            "showbackground": true,
            "ticks": "",
            "zerolinecolor": "white"
           },
           "yaxis": {
            "backgroundcolor": "#E5ECF6",
            "gridcolor": "white",
            "gridwidth": 2,
            "linecolor": "white",
            "showbackground": true,
            "ticks": "",
            "zerolinecolor": "white"
           },
           "zaxis": {
            "backgroundcolor": "#E5ECF6",
            "gridcolor": "white",
            "gridwidth": 2,
            "linecolor": "white",
            "showbackground": true,
            "ticks": "",
            "zerolinecolor": "white"
           }
          },
          "shapedefaults": {
           "line": {
            "color": "#2a3f5f"
           }
          },
          "ternary": {
           "aaxis": {
            "gridcolor": "white",
            "linecolor": "white",
            "ticks": ""
           },
           "baxis": {
            "gridcolor": "white",
            "linecolor": "white",
            "ticks": ""
           },
           "bgcolor": "#E5ECF6",
           "caxis": {
            "gridcolor": "white",
            "linecolor": "white",
            "ticks": ""
           }
          },
          "title": {
           "x": 0.05
          },
          "xaxis": {
           "automargin": true,
           "gridcolor": "white",
           "linecolor": "white",
           "ticks": "",
           "title": {
            "standoff": 15
           },
           "zerolinecolor": "white",
           "zerolinewidth": 2
          },
          "yaxis": {
           "automargin": true,
           "gridcolor": "white",
           "linecolor": "white",
           "ticks": "",
           "title": {
            "standoff": 15
           },
           "zerolinecolor": "white",
           "zerolinewidth": 2
          }
         }
        },
        "title": {
         "text": "Top 5 Faculty Approvers"
        }
       }
      }
     },
     "metadata": {},
     "output_type": "display_data"
    }
   ],
   "source": [
    "q4 = q3.copy()\n",
    "\n",
    "approving_faculty_count = {}\n",
    "all_faculty = list(filter(lambda x: len(x) > 0, [x.strip() if type(x) is str else '' for x in q4['Approving_Faculty'].tolist()]))\n",
    "all_faculty_set = set(all_faculty)\n",
    "\n",
    "for each_faculty_id in all_faculty:\n",
    "    if each_faculty_id in all_faculty_set:\n",
    "        if each_faculty_id in approving_faculty_count:\n",
    "            approving_faculty_count[each_faculty_id] += 1\n",
    "        else:\n",
    "            approving_faculty_count[each_faculty_id] = 1\n",
    "\n",
    "\n",
    "sorted_faculty = sorted(approving_faculty_count.items(), key=lambda x: x[1], reverse=True)\n",
    "\n",
    "top_10 = sorted_faculty[:10]\n",
    "top_10_names = [x[0] for x in top_10]\n",
    "top_10_values = [x[1] for x in top_10]\n",
    "\n",
    "px.pie(values=top_10_values, names=top_10_names, title=\"Top 5 Faculty Approvers\")"
   ]
  },
  {
   "cell_type": "code",
   "execution_count": 143,
   "metadata": {},
   "outputs": [
    {
     "data": {
      "text/plain": [
       "[('Sunita Chandrasekaran', 25),\n",
       " ('Matthew Saponaro', 12),\n",
       " ('Chandra Kambhamettu', 10),\n",
       " ('Debra Yarrington', 10),\n",
       " ('Lori Pollock', 8),\n",
       " ('Dr. Bart', 7),\n",
       " ('Rui Zhang', 6),\n",
       " ('Xi Peng', 6),\n",
       " ('Keith Decker', 5),\n",
       " ('Chien-Chung Shen', 5),\n",
       " ('Ilya Safro', 4),\n",
       " ('Jackie Brown', 4),\n",
       " ('Jacqueline Brown', 4),\n",
       " ('Matt Saponaro', 4),\n",
       " ('Prof. Chien-Chung Shen', 3),\n",
       " ('Kathy McCoy', 3),\n",
       " ('Dr. Austin Bart', 3),\n",
       " ('Li Liao', 3),\n",
       " ('Dr. Yarrington', 3),\n",
       " ('Matt', 3),\n",
       " ('Dr. Li Liao', 2),\n",
       " ('Leila Barmaki', 2),\n",
       " ('Lena Mashayekhy', 2),\n",
       " ('Rahmat Beheshti', 2),\n",
       " ('Lena Mashayekhy, Ph.D.', 2),\n",
       " ('Dr. Xi Peng', 2),\n",
       " ('Dr. Matthew Louis Mauriello', 2),\n",
       " ('Prof. Sunita Chandrasekaran', 2),\n",
       " ('Dr. Ilya Safro', 2),\n",
       " ('Dr. Chandrasekaran', 2),\n",
       " ('Austin Cory Bart', 2),\n",
       " ('Dr. James Clause', 2),\n",
       " ('Xing Gao', 2),\n",
       " ('Bryan Youse', 2),\n",
       " ('Prof. Andrew Roosen', 2),\n",
       " ('Dr. Harvey', 2),\n",
       " ('Professor Roosen', 2),\n",
       " ('Andrew Roosen', 2),\n",
       " ('Professor Xing Gao', 2),\n",
       " ('James Clause', 1),\n",
       " ('Decker?', 1),\n",
       " ('Hagit Shatkay', 1),\n",
       " ('Prof. Rui Zhang', 1),\n",
       " ('Prof Sunita Chandrasekaran', 1),\n",
       " ('Professor James Clause', 1),\n",
       " ('Dr. Silber', 1),\n",
       " ('Prof. Lena Mashayekhy', 1),\n",
       " ('Lena Mashayekhy, Key for 101A was approved per my TA assignment', 1),\n",
       " ('decker', 1),\n",
       " ('Dr. Vijay Shanker (Smith 102) , Dr. Lynch (Main door and Smith 102A)', 1),\n",
       " ('Dr Rahmat Behesti', 1),\n",
       " ('Kristi', 1),\n",
       " ('Dr. Chandra Kambhamettu; Uncertain who gives approval for others as they are for TAing',\n",
       "  1),\n",
       " ('Prof. Rahmatollah Beheshti', 1),\n",
       " ('TA Cordinator, Lori Pollock', 1),\n",
       " ('TA rooms', 1),\n",
       " ('Prof. Shatkay, Prof. Sethi', 1),\n",
       " ('Liao Li', 1),\n",
       " ('Dr Rahmat Beheshti', 1),\n",
       " ('Prof. Beheshti', 1),\n",
       " ('Matthew Mauriello', 1),\n",
       " ('Professor Amo Tong', 1),\n",
       " ('Mahdi Khalili', 1),\n",
       " ('Jacqueline Brown / Sunita Chandrasekaran', 1),\n",
       " ('Dr.  Chandrasekaran', 1),\n",
       " ('CHIEN-CHUNG SHEN', 1),\n",
       " ('Dr. Chandra Kambhamettu', 1),\n",
       " ('Professor Chandra Kambhamettu', 1),\n",
       " ('Shanker', 1),\n",
       " ('I am a TA for professor Li Liao, TA coordinator recommended getting the key',\n",
       "  1),\n",
       " ('Steve Siegel', 1),\n",
       " ('TA Coordinator', 1),\n",
       " ('Austin Cory Bart, Dr. Decker', 1),\n",
       " ('Professor Wassil', 1),\n",
       " ('Austin Bart', 1),\n",
       " ('Andrew Roosen and Jackie Brown', 1),\n",
       " ('For TA office hours', 1),\n",
       " ('Mayra Ortiz', 1),\n",
       " ('Professor Xing Gao: Smith Hall, Smith 204; TA: Smith 203', 1),\n",
       " ('Dr. Bart and Dr. Decker', 1),\n",
       " ('Computer Science', 1),\n",
       " ('Dr. Decker', 1),\n",
       " ('Dr. Cory Bart', 1),\n",
       " ('Prof. Bert Gibbons (bgibbons@udel.edu)', 1),\n",
       " ('Cory Bart', 1),\n",
       " ('Brown, Jacqueline', 1),\n",
       " ('Dr. Kathy McCoy', 1),\n",
       " ('Dr Bart', 1),\n",
       " ('Jeremy Keffer', 1),\n",
       " ('Mohammad Mahdi Khalil', 1),\n",
       " ('Professor Behehsti', 1),\n",
       " ('Mohammad Mahdi Khalili', 1),\n",
       " ('Dr. Kathleen McCoy', 1),\n",
       " ('Professor Gopalkrishna', 1),\n",
       " ('Prof. Matthew Mauriello', 1),\n",
       " ('Professor Yarrington, Hamed Fayyaz', 1),\n",
       " ('Key to the TA room', 1),\n",
       " ('Jackie Brown and Katie Wassil', 1),\n",
       " ('Hamad Fayyaz', 1),\n",
       " ('Dr. Sara Gopalkrishna', 1),\n",
       " ('Dr. Wassil', 1),\n",
       " ('Hamed Fayyaz', 1),\n",
       " ('Sara Gopalkrishna', 1),\n",
       " ('Dr. McCoy', 1),\n",
       " ('Steven Siegel', 1),\n",
       " ('Ardash Sethi', 1),\n",
       " ('Professor Chandrasekaran', 1),\n",
       " ('Sunita', 1),\n",
       " ('Gibbons', 1),\n",
       " ('Sunita Chandrasekaran (CRPL Lab)', 1),\n",
       " ('Dr. Stephen Siegel', 1),\n",
       " ('Leighanne Hsu', 1),\n",
       " ('Jaqueline Brown, Andrew Roosen', 1),\n",
       " ('Professor Andrew Roosen', 1),\n",
       " ('Roosen', 1),\n",
       " ('Siegel', 1),\n",
       " ('Dr. Andrew Roosen', 1),\n",
       " ('Dr. Terry Harvey', 1),\n",
       " ('Greg Silber', 1),\n",
       " ('Dr Harvey', 1),\n",
       " ('Dr Debra Yarrington', 1),\n",
       " ('Dr. Leila Barmaki', 1),\n",
       " ('Rahmat Behesti', 1),\n",
       " ('Dr. Matthew Mauriello', 1),\n",
       " ('Professor Yarrington', 1),\n",
       " ('Matt soprano', 1),\n",
       " ('Matt S/Dr. Bart', 1),\n",
       " ('Matthew Saporano', 1),\n",
       " ('Matthew S', 1),\n",
       " ('Dr. Harvey, Matt Saporano (TA coord, i cant spell his last name sorry)', 1),\n",
       " ('Stephen Siegel <siegel@udel.edu>', 1),\n",
       " ('Matthew', 1),\n",
       " ('Decker', 1),\n",
       " ('Dr. Sunita Chandrasekaran', 1),\n",
       " ('Rahmatollah Beheshti', 1),\n",
       " ('Chien chun shen', 1),\n",
       " ('Amo Tong', 1),\n",
       " ('CIS', 1),\n",
       " ('Matthew saponaro', 1)]"
      ]
     },
     "execution_count": 143,
     "metadata": {},
     "output_type": "execute_result"
    }
   ],
   "source": [
    "sorted_faculty"
   ]
  }
 ],
 "metadata": {
  "kernelspec": {
   "display_name": "venv",
   "language": "python",
   "name": "python3"
  },
  "language_info": {
   "codemirror_mode": {
    "name": "ipython",
    "version": 3
   },
   "file_extension": ".py",
   "mimetype": "text/x-python",
   "name": "python",
   "nbconvert_exporter": "python",
   "pygments_lexer": "ipython3",
   "version": "3.11.1"
  },
  "orig_nbformat": 4
 },
 "nbformat": 4,
 "nbformat_minor": 2
}
