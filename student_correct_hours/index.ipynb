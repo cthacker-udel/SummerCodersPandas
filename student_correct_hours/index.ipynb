{
 "cells": [
  {
   "cell_type": "code",
   "execution_count": 71,
   "metadata": {},
   "outputs": [],
   "source": [
    "import pandas as pd\n",
    "import numpy as np\n",
    "import plotly.express as px\n",
    "import plotly.graph_objects as go\n",
    "from plotly.subplots import make_subplots\n",
    "import ipywidgets as widgets"
   ]
  },
  {
   "cell_type": "code",
   "execution_count": 72,
   "metadata": {},
   "outputs": [
    {
     "data": {
      "text/plain": [
       "Index(['Timestamp', 'Email Address', 'Student Name:', 'Student UD ID Number:',\n",
       "       'Student Work Assignment:', 'Reason', 'Signature', 'Correction_Time',\n",
       "       'Bi_Weekly_Period_Correction'],\n",
       "      dtype='object')"
      ]
     },
     "execution_count": 72,
     "metadata": {},
     "output_type": "execute_result"
    }
   ],
   "source": [
    "correct_hours = pd.read_csv('data.csv')\n",
    "\n",
    "bad_name_columns = ['Unnamed: 13', 'Unnamed: 12', 'Unnamed: 11', 'Unnamed: 10','Unnamed: 7','Please specify why the above dates and times were not entered correctly in UD Time.  For any request over your approved contract hours, your faculty adviser should email krystalp@udel.edu and jabrow@udel.edu noting approval for non-standard hours.', 'Please sign your name verifying that your hours are approved by your faculty advisor and are in compliance with UD policy and the Department of Labor ', 'Please list Date(s) Time(s) that you need corrected in UD Time (example: 2/20/21 from 8:00am - 1:00pm)','Bi-Weekly Pay Period Needing Correction (example: 1/11-25/2020)']\n",
    "correct_hours['Reason'] = correct_hours['Please specify why the above dates and times were not entered correctly in UD Time.  For any request over your approved contract hours, your faculty adviser should email krystalp@udel.edu and jabrow@udel.edu noting approval for non-standard hours.']\n",
    "correct_hours['Signature'] = correct_hours['Please sign your name verifying that your hours are approved by your faculty advisor and are in compliance with UD policy and the Department of Labor ']\n",
    "correct_hours['Correction_Time'] = correct_hours['Please list Date(s) Time(s) that you need corrected in UD Time (example: 2/20/21 from 8:00am - 1:00pm)']\n",
    "correct_hours['Bi_Weekly_Period_Correction'] = correct_hours['Bi-Weekly Pay Period Needing Correction (example: 1/11-25/2020)']\n",
    "\n",
    "correct_hours.drop(columns=bad_name_columns, inplace=True)\n",
    "correct_hours.columns"
   ]
  },
  {
   "cell_type": "code",
   "execution_count": 73,
   "metadata": {},
   "outputs": [
    {
     "data": {
      "text/plain": [
       "Timestamp                      object\n",
       "Email Address                  object\n",
       "Student Name:                  object\n",
       "Student UD ID Number:          object\n",
       "Student Work Assignment:       object\n",
       "Reason                         object\n",
       "Signature                      object\n",
       "Correction_Time                object\n",
       "Bi_Weekly_Period_Correction    object\n",
       "dtype: object"
      ]
     },
     "execution_count": 73,
     "metadata": {},
     "output_type": "execute_result"
    }
   ],
   "source": [
    "correct_hours.dtypes"
   ]
  },
  {
   "cell_type": "code",
   "execution_count": 74,
   "metadata": {},
   "outputs": [],
   "source": [
    "def process_timestamp(timestamp: str | float | pd.Timestamp) -> pd.Timestamp | float:\n",
    "    if type(timestamp) is pd.Timestamp:\n",
    "        return timestamp\n",
    "    elif type(timestamp) is float:\n",
    "        return np.nan\n",
    "    else:\n",
    "        [date_time, specific_time] = timestamp.split(\" \")\n",
    "        [year, month, day] = date_time.split('-')\n",
    "        [hour, minute, second] = specific_time.split(\":\")\n",
    "        return pd.Timestamp(year=int(year), month=int(month), day=int(day), hour=int(hour), minute=int(minute), second=int(float(second)))"
   ]
  },
  {
   "cell_type": "code",
   "execution_count": 75,
   "metadata": {},
   "outputs": [
    {
     "data": {
      "text/html": [
       "<div>\n",
       "<style scoped>\n",
       "    .dataframe tbody tr th:only-of-type {\n",
       "        vertical-align: middle;\n",
       "    }\n",
       "\n",
       "    .dataframe tbody tr th {\n",
       "        vertical-align: top;\n",
       "    }\n",
       "\n",
       "    .dataframe thead th {\n",
       "        text-align: right;\n",
       "    }\n",
       "</style>\n",
       "<table border=\"1\" class=\"dataframe\">\n",
       "  <thead>\n",
       "    <tr style=\"text-align: right;\">\n",
       "      <th></th>\n",
       "      <th>Timestamp</th>\n",
       "      <th>Email Address</th>\n",
       "      <th>Student Name:</th>\n",
       "      <th>Student UD ID Number:</th>\n",
       "      <th>Student Work Assignment:</th>\n",
       "      <th>Reason</th>\n",
       "      <th>Signature</th>\n",
       "      <th>Correction_Time</th>\n",
       "      <th>Bi_Weekly_Period_Correction</th>\n",
       "    </tr>\n",
       "  </thead>\n",
       "  <tbody>\n",
       "    <tr>\n",
       "      <th>0</th>\n",
       "      <td>2022-12-12 23:49:33</td>\n",
       "      <td>3773f0bf855e507e6e7492336e4ee5bd89f6af0b7da3e8...</td>\n",
       "      <td>61b8ab63d1420b410aa08cf5f407b86ff870d55b1424ce...</td>\n",
       "      <td>74c2d693c171f330b0642aca401d49a4325c0c8e50b490...</td>\n",
       "      <td>Student Worker Class II</td>\n",
       "      <td>forgot to clock out on workforce</td>\n",
       "      <td>61b8ab63d1420b410aa08cf5f407b86ff870d55b1424ce...</td>\n",
       "      <td>12/02/22 2:03pm - 3:45 pm</td>\n",
       "      <td>11/27/1022 - 12/10/2022</td>\n",
       "    </tr>\n",
       "    <tr>\n",
       "      <th>1</th>\n",
       "      <td>2022-12-18 13:26:22</td>\n",
       "      <td>26c4a808ae8889b8fb2e8e47fbedf9087ccfdd05e5b92d...</td>\n",
       "      <td>059d42167f14f9360ae62eee2b2e941ca6072ff79af76b...</td>\n",
       "      <td>06cb0487f6ecfa5471a6daed9a371e1ad1634d958e8bba...</td>\n",
       "      <td>Student Worker Class II</td>\n",
       "      <td>Forgot to clock out</td>\n",
       "      <td>059d42167f14f9360ae62eee2b2e941ca6072ff79af76b...</td>\n",
       "      <td>12/06/22 9:45AM - 2:00PM</td>\n",
       "      <td>11/27/2022 - 12/10/2022</td>\n",
       "    </tr>\n",
       "    <tr>\n",
       "      <th>2</th>\n",
       "      <td>2022-12-18 17:33:59</td>\n",
       "      <td>6cb4453e4f367fd20dc79f9f2f833a1d80da9848abafd8...</td>\n",
       "      <td>b17b291c9834bbbdde35ad4b7fff49f8d533db47ffa16d...</td>\n",
       "      <td>a10c86ce87e1593ee6b55da4adce75966159fa85243026...</td>\n",
       "      <td>CISC 220 TA</td>\n",
       "      <td>Forgot to clock out both days.</td>\n",
       "      <td>adb6c6989028b739a3e470ec86877863c11413592d89cc...</td>\n",
       "      <td>12/05/22 5:15pm - 8:30pm 12/05/22 3:30pm - 5:30pm</td>\n",
       "      <td>11/27/2022 - 12/10/2022</td>\n",
       "    </tr>\n",
       "    <tr>\n",
       "      <th>3</th>\n",
       "      <td>2022-12-18 19:28:45</td>\n",
       "      <td>9e89060ae6a7a51e01c0d18420f144357a32ff89beb38a...</td>\n",
       "      <td>5c6632ce29bc301dc9b371bc70a016fe6edf1cf7de68b5...</td>\n",
       "      <td>1d02878b0247dad3c6dfb98f67bb116423879d17338e94...</td>\n",
       "      <td>Excusing/extending projects for students in need</td>\n",
       "      <td>I clocked in, but forgot to clock out when I w...</td>\n",
       "      <td>5c6632ce29bc301dc9b371bc70a016fe6edf1cf7de68b5...</td>\n",
       "      <td>12/17/22 from 2:03am - 2:40am</td>\n",
       "      <td>12/11-24/2022</td>\n",
       "    </tr>\n",
       "    <tr>\n",
       "      <th>4</th>\n",
       "      <td>2022-12-18 20:26:31</td>\n",
       "      <td>dbefd7772cd313291b9de37b3cf174fbd065ffcb9769f8...</td>\n",
       "      <td>21abb140ad59cfc4947b0a9f816de8ac626e85df6d8914...</td>\n",
       "      <td>9a67c831cec80403be893e02fe74cbab334e300fb9e4ea...</td>\n",
       "      <td>CISC Teaching Assistant 2022-Computer &amp; Info S...</td>\n",
       "      <td>Forgo to clock out</td>\n",
       "      <td>21abb140ad59cfc4947b0a9f816de8ac626e85df6d8914...</td>\n",
       "      <td>12/15/2022 from 6:30pm - 9:30pm\\n12/17/2022 fr...</td>\n",
       "      <td>12/11/2022 - 12/24/2022</td>\n",
       "    </tr>\n",
       "  </tbody>\n",
       "</table>\n",
       "</div>"
      ],
      "text/plain": [
       "            Timestamp                                      Email Address  \\\n",
       "0 2022-12-12 23:49:33  3773f0bf855e507e6e7492336e4ee5bd89f6af0b7da3e8...   \n",
       "1 2022-12-18 13:26:22  26c4a808ae8889b8fb2e8e47fbedf9087ccfdd05e5b92d...   \n",
       "2 2022-12-18 17:33:59  6cb4453e4f367fd20dc79f9f2f833a1d80da9848abafd8...   \n",
       "3 2022-12-18 19:28:45  9e89060ae6a7a51e01c0d18420f144357a32ff89beb38a...   \n",
       "4 2022-12-18 20:26:31  dbefd7772cd313291b9de37b3cf174fbd065ffcb9769f8...   \n",
       "\n",
       "                                       Student Name:  \\\n",
       "0  61b8ab63d1420b410aa08cf5f407b86ff870d55b1424ce...   \n",
       "1  059d42167f14f9360ae62eee2b2e941ca6072ff79af76b...   \n",
       "2  b17b291c9834bbbdde35ad4b7fff49f8d533db47ffa16d...   \n",
       "3  5c6632ce29bc301dc9b371bc70a016fe6edf1cf7de68b5...   \n",
       "4  21abb140ad59cfc4947b0a9f816de8ac626e85df6d8914...   \n",
       "\n",
       "                               Student UD ID Number:  \\\n",
       "0  74c2d693c171f330b0642aca401d49a4325c0c8e50b490...   \n",
       "1  06cb0487f6ecfa5471a6daed9a371e1ad1634d958e8bba...   \n",
       "2  a10c86ce87e1593ee6b55da4adce75966159fa85243026...   \n",
       "3  1d02878b0247dad3c6dfb98f67bb116423879d17338e94...   \n",
       "4  9a67c831cec80403be893e02fe74cbab334e300fb9e4ea...   \n",
       "\n",
       "                            Student Work Assignment:  \\\n",
       "0                            Student Worker Class II   \n",
       "1                            Student Worker Class II   \n",
       "2                                       CISC 220 TA    \n",
       "3   Excusing/extending projects for students in need   \n",
       "4  CISC Teaching Assistant 2022-Computer & Info S...   \n",
       "\n",
       "                                              Reason  \\\n",
       "0                   forgot to clock out on workforce   \n",
       "1                                Forgot to clock out   \n",
       "2                     Forgot to clock out both days.   \n",
       "3  I clocked in, but forgot to clock out when I w...   \n",
       "4                                 Forgo to clock out   \n",
       "\n",
       "                                           Signature  \\\n",
       "0  61b8ab63d1420b410aa08cf5f407b86ff870d55b1424ce...   \n",
       "1  059d42167f14f9360ae62eee2b2e941ca6072ff79af76b...   \n",
       "2  adb6c6989028b739a3e470ec86877863c11413592d89cc...   \n",
       "3  5c6632ce29bc301dc9b371bc70a016fe6edf1cf7de68b5...   \n",
       "4  21abb140ad59cfc4947b0a9f816de8ac626e85df6d8914...   \n",
       "\n",
       "                                     Correction_Time  \\\n",
       "0                          12/02/22 2:03pm - 3:45 pm   \n",
       "1                           12/06/22 9:45AM - 2:00PM   \n",
       "2  12/05/22 5:15pm - 8:30pm 12/05/22 3:30pm - 5:30pm   \n",
       "3                      12/17/22 from 2:03am - 2:40am   \n",
       "4  12/15/2022 from 6:30pm - 9:30pm\\n12/17/2022 fr...   \n",
       "\n",
       "  Bi_Weekly_Period_Correction  \n",
       "0     11/27/1022 - 12/10/2022  \n",
       "1     11/27/2022 - 12/10/2022  \n",
       "2     11/27/2022 - 12/10/2022  \n",
       "3               12/11-24/2022  \n",
       "4     12/11/2022 - 12/24/2022  "
      ]
     },
     "execution_count": 75,
     "metadata": {},
     "output_type": "execute_result"
    }
   ],
   "source": [
    "correct_hours['Timestamp'] = correct_hours['Timestamp'].apply(process_timestamp)\n",
    "correct_hours.head()"
   ]
  },
  {
   "cell_type": "code",
   "execution_count": 76,
   "metadata": {},
   "outputs": [
    {
     "data": {
      "application/vnd.plotly.v1+json": {
       "config": {
        "plotlyServerURL": "https://plot.ly"
       },
       "data": [
        {
         "domain": {
          "x": [
           0,
           1
          ],
          "y": [
           0,
           1
          ]
         },
         "hovertemplate": "label=%{label}<br>value=%{value}<extra></extra>",
         "labels": [
          "January",
          "February",
          "March",
          "April",
          "May",
          "June",
          "July",
          "August",
          "September",
          "October",
          "November",
          "December"
         ],
         "legendgroup": "",
         "name": "",
         "showlegend": true,
         "type": "pie",
         "values": [
          2,
          35,
          58,
          69,
          52,
          0,
          0,
          0,
          0,
          0,
          0,
          7
         ]
        }
       ],
       "layout": {
        "legend": {
         "tracegroupgap": 0
        },
        "template": {
         "data": {
          "bar": [
           {
            "error_x": {
             "color": "#2a3f5f"
            },
            "error_y": {
             "color": "#2a3f5f"
            },
            "marker": {
             "line": {
              "color": "#E5ECF6",
              "width": 0.5
             },
             "pattern": {
              "fillmode": "overlay",
              "size": 10,
              "solidity": 0.2
             }
            },
            "type": "bar"
           }
          ],
          "barpolar": [
           {
            "marker": {
             "line": {
              "color": "#E5ECF6",
              "width": 0.5
             },
             "pattern": {
              "fillmode": "overlay",
              "size": 10,
              "solidity": 0.2
             }
            },
            "type": "barpolar"
           }
          ],
          "carpet": [
           {
            "aaxis": {
             "endlinecolor": "#2a3f5f",
             "gridcolor": "white",
             "linecolor": "white",
             "minorgridcolor": "white",
             "startlinecolor": "#2a3f5f"
            },
            "baxis": {
             "endlinecolor": "#2a3f5f",
             "gridcolor": "white",
             "linecolor": "white",
             "minorgridcolor": "white",
             "startlinecolor": "#2a3f5f"
            },
            "type": "carpet"
           }
          ],
          "choropleth": [
           {
            "colorbar": {
             "outlinewidth": 0,
             "ticks": ""
            },
            "type": "choropleth"
           }
          ],
          "contour": [
           {
            "colorbar": {
             "outlinewidth": 0,
             "ticks": ""
            },
            "colorscale": [
             [
              0,
              "#0d0887"
             ],
             [
              0.1111111111111111,
              "#46039f"
             ],
             [
              0.2222222222222222,
              "#7201a8"
             ],
             [
              0.3333333333333333,
              "#9c179e"
             ],
             [
              0.4444444444444444,
              "#bd3786"
             ],
             [
              0.5555555555555556,
              "#d8576b"
             ],
             [
              0.6666666666666666,
              "#ed7953"
             ],
             [
              0.7777777777777778,
              "#fb9f3a"
             ],
             [
              0.8888888888888888,
              "#fdca26"
             ],
             [
              1,
              "#f0f921"
             ]
            ],
            "type": "contour"
           }
          ],
          "contourcarpet": [
           {
            "colorbar": {
             "outlinewidth": 0,
             "ticks": ""
            },
            "type": "contourcarpet"
           }
          ],
          "heatmap": [
           {
            "colorbar": {
             "outlinewidth": 0,
             "ticks": ""
            },
            "colorscale": [
             [
              0,
              "#0d0887"
             ],
             [
              0.1111111111111111,
              "#46039f"
             ],
             [
              0.2222222222222222,
              "#7201a8"
             ],
             [
              0.3333333333333333,
              "#9c179e"
             ],
             [
              0.4444444444444444,
              "#bd3786"
             ],
             [
              0.5555555555555556,
              "#d8576b"
             ],
             [
              0.6666666666666666,
              "#ed7953"
             ],
             [
              0.7777777777777778,
              "#fb9f3a"
             ],
             [
              0.8888888888888888,
              "#fdca26"
             ],
             [
              1,
              "#f0f921"
             ]
            ],
            "type": "heatmap"
           }
          ],
          "heatmapgl": [
           {
            "colorbar": {
             "outlinewidth": 0,
             "ticks": ""
            },
            "colorscale": [
             [
              0,
              "#0d0887"
             ],
             [
              0.1111111111111111,
              "#46039f"
             ],
             [
              0.2222222222222222,
              "#7201a8"
             ],
             [
              0.3333333333333333,
              "#9c179e"
             ],
             [
              0.4444444444444444,
              "#bd3786"
             ],
             [
              0.5555555555555556,
              "#d8576b"
             ],
             [
              0.6666666666666666,
              "#ed7953"
             ],
             [
              0.7777777777777778,
              "#fb9f3a"
             ],
             [
              0.8888888888888888,
              "#fdca26"
             ],
             [
              1,
              "#f0f921"
             ]
            ],
            "type": "heatmapgl"
           }
          ],
          "histogram": [
           {
            "marker": {
             "pattern": {
              "fillmode": "overlay",
              "size": 10,
              "solidity": 0.2
             }
            },
            "type": "histogram"
           }
          ],
          "histogram2d": [
           {
            "colorbar": {
             "outlinewidth": 0,
             "ticks": ""
            },
            "colorscale": [
             [
              0,
              "#0d0887"
             ],
             [
              0.1111111111111111,
              "#46039f"
             ],
             [
              0.2222222222222222,
              "#7201a8"
             ],
             [
              0.3333333333333333,
              "#9c179e"
             ],
             [
              0.4444444444444444,
              "#bd3786"
             ],
             [
              0.5555555555555556,
              "#d8576b"
             ],
             [
              0.6666666666666666,
              "#ed7953"
             ],
             [
              0.7777777777777778,
              "#fb9f3a"
             ],
             [
              0.8888888888888888,
              "#fdca26"
             ],
             [
              1,
              "#f0f921"
             ]
            ],
            "type": "histogram2d"
           }
          ],
          "histogram2dcontour": [
           {
            "colorbar": {
             "outlinewidth": 0,
             "ticks": ""
            },
            "colorscale": [
             [
              0,
              "#0d0887"
             ],
             [
              0.1111111111111111,
              "#46039f"
             ],
             [
              0.2222222222222222,
              "#7201a8"
             ],
             [
              0.3333333333333333,
              "#9c179e"
             ],
             [
              0.4444444444444444,
              "#bd3786"
             ],
             [
              0.5555555555555556,
              "#d8576b"
             ],
             [
              0.6666666666666666,
              "#ed7953"
             ],
             [
              0.7777777777777778,
              "#fb9f3a"
             ],
             [
              0.8888888888888888,
              "#fdca26"
             ],
             [
              1,
              "#f0f921"
             ]
            ],
            "type": "histogram2dcontour"
           }
          ],
          "mesh3d": [
           {
            "colorbar": {
             "outlinewidth": 0,
             "ticks": ""
            },
            "type": "mesh3d"
           }
          ],
          "parcoords": [
           {
            "line": {
             "colorbar": {
              "outlinewidth": 0,
              "ticks": ""
             }
            },
            "type": "parcoords"
           }
          ],
          "pie": [
           {
            "automargin": true,
            "type": "pie"
           }
          ],
          "scatter": [
           {
            "fillpattern": {
             "fillmode": "overlay",
             "size": 10,
             "solidity": 0.2
            },
            "type": "scatter"
           }
          ],
          "scatter3d": [
           {
            "line": {
             "colorbar": {
              "outlinewidth": 0,
              "ticks": ""
             }
            },
            "marker": {
             "colorbar": {
              "outlinewidth": 0,
              "ticks": ""
             }
            },
            "type": "scatter3d"
           }
          ],
          "scattercarpet": [
           {
            "marker": {
             "colorbar": {
              "outlinewidth": 0,
              "ticks": ""
             }
            },
            "type": "scattercarpet"
           }
          ],
          "scattergeo": [
           {
            "marker": {
             "colorbar": {
              "outlinewidth": 0,
              "ticks": ""
             }
            },
            "type": "scattergeo"
           }
          ],
          "scattergl": [
           {
            "marker": {
             "colorbar": {
              "outlinewidth": 0,
              "ticks": ""
             }
            },
            "type": "scattergl"
           }
          ],
          "scattermapbox": [
           {
            "marker": {
             "colorbar": {
              "outlinewidth": 0,
              "ticks": ""
             }
            },
            "type": "scattermapbox"
           }
          ],
          "scatterpolar": [
           {
            "marker": {
             "colorbar": {
              "outlinewidth": 0,
              "ticks": ""
             }
            },
            "type": "scatterpolar"
           }
          ],
          "scatterpolargl": [
           {
            "marker": {
             "colorbar": {
              "outlinewidth": 0,
              "ticks": ""
             }
            },
            "type": "scatterpolargl"
           }
          ],
          "scatterternary": [
           {
            "marker": {
             "colorbar": {
              "outlinewidth": 0,
              "ticks": ""
             }
            },
            "type": "scatterternary"
           }
          ],
          "surface": [
           {
            "colorbar": {
             "outlinewidth": 0,
             "ticks": ""
            },
            "colorscale": [
             [
              0,
              "#0d0887"
             ],
             [
              0.1111111111111111,
              "#46039f"
             ],
             [
              0.2222222222222222,
              "#7201a8"
             ],
             [
              0.3333333333333333,
              "#9c179e"
             ],
             [
              0.4444444444444444,
              "#bd3786"
             ],
             [
              0.5555555555555556,
              "#d8576b"
             ],
             [
              0.6666666666666666,
              "#ed7953"
             ],
             [
              0.7777777777777778,
              "#fb9f3a"
             ],
             [
              0.8888888888888888,
              "#fdca26"
             ],
             [
              1,
              "#f0f921"
             ]
            ],
            "type": "surface"
           }
          ],
          "table": [
           {
            "cells": {
             "fill": {
              "color": "#EBF0F8"
             },
             "line": {
              "color": "white"
             }
            },
            "header": {
             "fill": {
              "color": "#C8D4E3"
             },
             "line": {
              "color": "white"
             }
            },
            "type": "table"
           }
          ]
         },
         "layout": {
          "annotationdefaults": {
           "arrowcolor": "#2a3f5f",
           "arrowhead": 0,
           "arrowwidth": 1
          },
          "autotypenumbers": "strict",
          "coloraxis": {
           "colorbar": {
            "outlinewidth": 0,
            "ticks": ""
           }
          },
          "colorscale": {
           "diverging": [
            [
             0,
             "#8e0152"
            ],
            [
             0.1,
             "#c51b7d"
            ],
            [
             0.2,
             "#de77ae"
            ],
            [
             0.3,
             "#f1b6da"
            ],
            [
             0.4,
             "#fde0ef"
            ],
            [
             0.5,
             "#f7f7f7"
            ],
            [
             0.6,
             "#e6f5d0"
            ],
            [
             0.7,
             "#b8e186"
            ],
            [
             0.8,
             "#7fbc41"
            ],
            [
             0.9,
             "#4d9221"
            ],
            [
             1,
             "#276419"
            ]
           ],
           "sequential": [
            [
             0,
             "#0d0887"
            ],
            [
             0.1111111111111111,
             "#46039f"
            ],
            [
             0.2222222222222222,
             "#7201a8"
            ],
            [
             0.3333333333333333,
             "#9c179e"
            ],
            [
             0.4444444444444444,
             "#bd3786"
            ],
            [
             0.5555555555555556,
             "#d8576b"
            ],
            [
             0.6666666666666666,
             "#ed7953"
            ],
            [
             0.7777777777777778,
             "#fb9f3a"
            ],
            [
             0.8888888888888888,
             "#fdca26"
            ],
            [
             1,
             "#f0f921"
            ]
           ],
           "sequentialminus": [
            [
             0,
             "#0d0887"
            ],
            [
             0.1111111111111111,
             "#46039f"
            ],
            [
             0.2222222222222222,
             "#7201a8"
            ],
            [
             0.3333333333333333,
             "#9c179e"
            ],
            [
             0.4444444444444444,
             "#bd3786"
            ],
            [
             0.5555555555555556,
             "#d8576b"
            ],
            [
             0.6666666666666666,
             "#ed7953"
            ],
            [
             0.7777777777777778,
             "#fb9f3a"
            ],
            [
             0.8888888888888888,
             "#fdca26"
            ],
            [
             1,
             "#f0f921"
            ]
           ]
          },
          "colorway": [
           "#636efa",
           "#EF553B",
           "#00cc96",
           "#ab63fa",
           "#FFA15A",
           "#19d3f3",
           "#FF6692",
           "#B6E880",
           "#FF97FF",
           "#FECB52"
          ],
          "font": {
           "color": "#2a3f5f"
          },
          "geo": {
           "bgcolor": "white",
           "lakecolor": "white",
           "landcolor": "#E5ECF6",
           "showlakes": true,
           "showland": true,
           "subunitcolor": "white"
          },
          "hoverlabel": {
           "align": "left"
          },
          "hovermode": "closest",
          "mapbox": {
           "style": "light"
          },
          "paper_bgcolor": "white",
          "plot_bgcolor": "#E5ECF6",
          "polar": {
           "angularaxis": {
            "gridcolor": "white",
            "linecolor": "white",
            "ticks": ""
           },
           "bgcolor": "#E5ECF6",
           "radialaxis": {
            "gridcolor": "white",
            "linecolor": "white",
            "ticks": ""
           }
          },
          "scene": {
           "xaxis": {
            "backgroundcolor": "#E5ECF6",
            "gridcolor": "white",
            "gridwidth": 2,
            "linecolor": "white",
            "showbackground": true,
            "ticks": "",
            "zerolinecolor": "white"
           },
           "yaxis": {
            "backgroundcolor": "#E5ECF6",
            "gridcolor": "white",
            "gridwidth": 2,
            "linecolor": "white",
            "showbackground": true,
            "ticks": "",
            "zerolinecolor": "white"
           },
           "zaxis": {
            "backgroundcolor": "#E5ECF6",
            "gridcolor": "white",
            "gridwidth": 2,
            "linecolor": "white",
            "showbackground": true,
            "ticks": "",
            "zerolinecolor": "white"
           }
          },
          "shapedefaults": {
           "line": {
            "color": "#2a3f5f"
           }
          },
          "ternary": {
           "aaxis": {
            "gridcolor": "white",
            "linecolor": "white",
            "ticks": ""
           },
           "baxis": {
            "gridcolor": "white",
            "linecolor": "white",
            "ticks": ""
           },
           "bgcolor": "#E5ECF6",
           "caxis": {
            "gridcolor": "white",
            "linecolor": "white",
            "ticks": ""
           }
          },
          "title": {
           "x": 0.05
          },
          "xaxis": {
           "automargin": true,
           "gridcolor": "white",
           "linecolor": "white",
           "ticks": "",
           "title": {
            "standoff": 15
           },
           "zerolinecolor": "white",
           "zerolinewidth": 2
          },
          "yaxis": {
           "automargin": true,
           "gridcolor": "white",
           "linecolor": "white",
           "ticks": "",
           "title": {
            "standoff": 15
           },
           "zerolinecolor": "white",
           "zerolinewidth": 2
          }
         }
        },
        "title": {
         "text": "Submissions Per Months"
        }
       }
      }
     },
     "metadata": {},
     "output_type": "display_data"
    }
   ],
   "source": [
    "q1 = correct_hours.copy()\n",
    "q1['Month_Submitted'] = q1['Timestamp'].apply(lambda x: x.month)\n",
    "\n",
    "month_names = ['January', 'February', 'March', 'April', 'May', 'June', 'July', 'August', 'September', 'October', 'November', 'December']\n",
    "\n",
    "months = {\n",
    "    1: 0,\n",
    "    2: 0,\n",
    "    3: 0,\n",
    "    4: 0,\n",
    "    5: 0,\n",
    "    6: 0,\n",
    "    7: 0,\n",
    "    8: 0,\n",
    "    9: 0,\n",
    "    10: 0,\n",
    "    11: 0,\n",
    "    12: 0\n",
    "}\n",
    "\n",
    "for each_month in months.keys():\n",
    "    months[each_month] = len(q1[q1['Month_Submitted'] == each_month])\n",
    "\n",
    "px.pie(values=months.values(), names=month_names, title=\"Submissions Per Months\")"
   ]
  },
  {
   "cell_type": "code",
   "execution_count": 77,
   "metadata": {},
   "outputs": [
    {
     "data": {
      "application/vnd.plotly.v1+json": {
       "config": {
        "plotlyServerURL": "https://plot.ly"
       },
       "data": [
        {
         "domain": {
          "x": [
           0,
           1
          ],
          "y": [
           0,
           1
          ]
         },
         "hovertemplate": "label=%{label}<br>value=%{value}<extra></extra>",
         "labels": [
          "74c2d693c171f330b0642aca401d49a4325c0c8e50b4902d71e89789729a0841",
          "84516f4fe13806a47d97e6ff784ebe0d55e7d4ec1cb5d9a11a9ef2ca22c8da45",
          "1d02878b0247dad3c6dfb98f67bb116423879d17338e941d80d7a7dad0f11b34",
          "b0564a26902b8e5a98ca165f741381e3f4232381839d0c39b53022aa3ffce416",
          "f5ec40ed204a7bbf5b953f1855c2fe0a0034dbd507558d5a5d3d9df790bcdb26",
          "a10c86ce87e1593ee6b55da4adce75966159fa85243026be98196c056cb77050",
          "9a67c831cec80403be893e02fe74cbab334e300fb9e4ea39c13a7a5357f5fbd3",
          "ab62759fea94e375b7381d490da5283b198846c72f45ab4bf081e5d55e1125f4",
          "0e7b97d513d487ec3d2e6abb70404dff1d31b5848d9407de35de35e4a899ce2a",
          "d57530695054b2aff6e8612cd0a10254aaf730c8e5757f17c649337ca8e44624"
         ],
         "legendgroup": "",
         "name": "",
         "showlegend": true,
         "type": "pie",
         "values": [
          10,
          10,
          9,
          8,
          7,
          6,
          6,
          5,
          4,
          4
         ]
        }
       ],
       "layout": {
        "legend": {
         "tracegroupgap": 0
        },
        "template": {
         "data": {
          "bar": [
           {
            "error_x": {
             "color": "#2a3f5f"
            },
            "error_y": {
             "color": "#2a3f5f"
            },
            "marker": {
             "line": {
              "color": "#E5ECF6",
              "width": 0.5
             },
             "pattern": {
              "fillmode": "overlay",
              "size": 10,
              "solidity": 0.2
             }
            },
            "type": "bar"
           }
          ],
          "barpolar": [
           {
            "marker": {
             "line": {
              "color": "#E5ECF6",
              "width": 0.5
             },
             "pattern": {
              "fillmode": "overlay",
              "size": 10,
              "solidity": 0.2
             }
            },
            "type": "barpolar"
           }
          ],
          "carpet": [
           {
            "aaxis": {
             "endlinecolor": "#2a3f5f",
             "gridcolor": "white",
             "linecolor": "white",
             "minorgridcolor": "white",
             "startlinecolor": "#2a3f5f"
            },
            "baxis": {
             "endlinecolor": "#2a3f5f",
             "gridcolor": "white",
             "linecolor": "white",
             "minorgridcolor": "white",
             "startlinecolor": "#2a3f5f"
            },
            "type": "carpet"
           }
          ],
          "choropleth": [
           {
            "colorbar": {
             "outlinewidth": 0,
             "ticks": ""
            },
            "type": "choropleth"
           }
          ],
          "contour": [
           {
            "colorbar": {
             "outlinewidth": 0,
             "ticks": ""
            },
            "colorscale": [
             [
              0,
              "#0d0887"
             ],
             [
              0.1111111111111111,
              "#46039f"
             ],
             [
              0.2222222222222222,
              "#7201a8"
             ],
             [
              0.3333333333333333,
              "#9c179e"
             ],
             [
              0.4444444444444444,
              "#bd3786"
             ],
             [
              0.5555555555555556,
              "#d8576b"
             ],
             [
              0.6666666666666666,
              "#ed7953"
             ],
             [
              0.7777777777777778,
              "#fb9f3a"
             ],
             [
              0.8888888888888888,
              "#fdca26"
             ],
             [
              1,
              "#f0f921"
             ]
            ],
            "type": "contour"
           }
          ],
          "contourcarpet": [
           {
            "colorbar": {
             "outlinewidth": 0,
             "ticks": ""
            },
            "type": "contourcarpet"
           }
          ],
          "heatmap": [
           {
            "colorbar": {
             "outlinewidth": 0,
             "ticks": ""
            },
            "colorscale": [
             [
              0,
              "#0d0887"
             ],
             [
              0.1111111111111111,
              "#46039f"
             ],
             [
              0.2222222222222222,
              "#7201a8"
             ],
             [
              0.3333333333333333,
              "#9c179e"
             ],
             [
              0.4444444444444444,
              "#bd3786"
             ],
             [
              0.5555555555555556,
              "#d8576b"
             ],
             [
              0.6666666666666666,
              "#ed7953"
             ],
             [
              0.7777777777777778,
              "#fb9f3a"
             ],
             [
              0.8888888888888888,
              "#fdca26"
             ],
             [
              1,
              "#f0f921"
             ]
            ],
            "type": "heatmap"
           }
          ],
          "heatmapgl": [
           {
            "colorbar": {
             "outlinewidth": 0,
             "ticks": ""
            },
            "colorscale": [
             [
              0,
              "#0d0887"
             ],
             [
              0.1111111111111111,
              "#46039f"
             ],
             [
              0.2222222222222222,
              "#7201a8"
             ],
             [
              0.3333333333333333,
              "#9c179e"
             ],
             [
              0.4444444444444444,
              "#bd3786"
             ],
             [
              0.5555555555555556,
              "#d8576b"
             ],
             [
              0.6666666666666666,
              "#ed7953"
             ],
             [
              0.7777777777777778,
              "#fb9f3a"
             ],
             [
              0.8888888888888888,
              "#fdca26"
             ],
             [
              1,
              "#f0f921"
             ]
            ],
            "type": "heatmapgl"
           }
          ],
          "histogram": [
           {
            "marker": {
             "pattern": {
              "fillmode": "overlay",
              "size": 10,
              "solidity": 0.2
             }
            },
            "type": "histogram"
           }
          ],
          "histogram2d": [
           {
            "colorbar": {
             "outlinewidth": 0,
             "ticks": ""
            },
            "colorscale": [
             [
              0,
              "#0d0887"
             ],
             [
              0.1111111111111111,
              "#46039f"
             ],
             [
              0.2222222222222222,
              "#7201a8"
             ],
             [
              0.3333333333333333,
              "#9c179e"
             ],
             [
              0.4444444444444444,
              "#bd3786"
             ],
             [
              0.5555555555555556,
              "#d8576b"
             ],
             [
              0.6666666666666666,
              "#ed7953"
             ],
             [
              0.7777777777777778,
              "#fb9f3a"
             ],
             [
              0.8888888888888888,
              "#fdca26"
             ],
             [
              1,
              "#f0f921"
             ]
            ],
            "type": "histogram2d"
           }
          ],
          "histogram2dcontour": [
           {
            "colorbar": {
             "outlinewidth": 0,
             "ticks": ""
            },
            "colorscale": [
             [
              0,
              "#0d0887"
             ],
             [
              0.1111111111111111,
              "#46039f"
             ],
             [
              0.2222222222222222,
              "#7201a8"
             ],
             [
              0.3333333333333333,
              "#9c179e"
             ],
             [
              0.4444444444444444,
              "#bd3786"
             ],
             [
              0.5555555555555556,
              "#d8576b"
             ],
             [
              0.6666666666666666,
              "#ed7953"
             ],
             [
              0.7777777777777778,
              "#fb9f3a"
             ],
             [
              0.8888888888888888,
              "#fdca26"
             ],
             [
              1,
              "#f0f921"
             ]
            ],
            "type": "histogram2dcontour"
           }
          ],
          "mesh3d": [
           {
            "colorbar": {
             "outlinewidth": 0,
             "ticks": ""
            },
            "type": "mesh3d"
           }
          ],
          "parcoords": [
           {
            "line": {
             "colorbar": {
              "outlinewidth": 0,
              "ticks": ""
             }
            },
            "type": "parcoords"
           }
          ],
          "pie": [
           {
            "automargin": true,
            "type": "pie"
           }
          ],
          "scatter": [
           {
            "fillpattern": {
             "fillmode": "overlay",
             "size": 10,
             "solidity": 0.2
            },
            "type": "scatter"
           }
          ],
          "scatter3d": [
           {
            "line": {
             "colorbar": {
              "outlinewidth": 0,
              "ticks": ""
             }
            },
            "marker": {
             "colorbar": {
              "outlinewidth": 0,
              "ticks": ""
             }
            },
            "type": "scatter3d"
           }
          ],
          "scattercarpet": [
           {
            "marker": {
             "colorbar": {
              "outlinewidth": 0,
              "ticks": ""
             }
            },
            "type": "scattercarpet"
           }
          ],
          "scattergeo": [
           {
            "marker": {
             "colorbar": {
              "outlinewidth": 0,
              "ticks": ""
             }
            },
            "type": "scattergeo"
           }
          ],
          "scattergl": [
           {
            "marker": {
             "colorbar": {
              "outlinewidth": 0,
              "ticks": ""
             }
            },
            "type": "scattergl"
           }
          ],
          "scattermapbox": [
           {
            "marker": {
             "colorbar": {
              "outlinewidth": 0,
              "ticks": ""
             }
            },
            "type": "scattermapbox"
           }
          ],
          "scatterpolar": [
           {
            "marker": {
             "colorbar": {
              "outlinewidth": 0,
              "ticks": ""
             }
            },
            "type": "scatterpolar"
           }
          ],
          "scatterpolargl": [
           {
            "marker": {
             "colorbar": {
              "outlinewidth": 0,
              "ticks": ""
             }
            },
            "type": "scatterpolargl"
           }
          ],
          "scatterternary": [
           {
            "marker": {
             "colorbar": {
              "outlinewidth": 0,
              "ticks": ""
             }
            },
            "type": "scatterternary"
           }
          ],
          "surface": [
           {
            "colorbar": {
             "outlinewidth": 0,
             "ticks": ""
            },
            "colorscale": [
             [
              0,
              "#0d0887"
             ],
             [
              0.1111111111111111,
              "#46039f"
             ],
             [
              0.2222222222222222,
              "#7201a8"
             ],
             [
              0.3333333333333333,
              "#9c179e"
             ],
             [
              0.4444444444444444,
              "#bd3786"
             ],
             [
              0.5555555555555556,
              "#d8576b"
             ],
             [
              0.6666666666666666,
              "#ed7953"
             ],
             [
              0.7777777777777778,
              "#fb9f3a"
             ],
             [
              0.8888888888888888,
              "#fdca26"
             ],
             [
              1,
              "#f0f921"
             ]
            ],
            "type": "surface"
           }
          ],
          "table": [
           {
            "cells": {
             "fill": {
              "color": "#EBF0F8"
             },
             "line": {
              "color": "white"
             }
            },
            "header": {
             "fill": {
              "color": "#C8D4E3"
             },
             "line": {
              "color": "white"
             }
            },
            "type": "table"
           }
          ]
         },
         "layout": {
          "annotationdefaults": {
           "arrowcolor": "#2a3f5f",
           "arrowhead": 0,
           "arrowwidth": 1
          },
          "autotypenumbers": "strict",
          "coloraxis": {
           "colorbar": {
            "outlinewidth": 0,
            "ticks": ""
           }
          },
          "colorscale": {
           "diverging": [
            [
             0,
             "#8e0152"
            ],
            [
             0.1,
             "#c51b7d"
            ],
            [
             0.2,
             "#de77ae"
            ],
            [
             0.3,
             "#f1b6da"
            ],
            [
             0.4,
             "#fde0ef"
            ],
            [
             0.5,
             "#f7f7f7"
            ],
            [
             0.6,
             "#e6f5d0"
            ],
            [
             0.7,
             "#b8e186"
            ],
            [
             0.8,
             "#7fbc41"
            ],
            [
             0.9,
             "#4d9221"
            ],
            [
             1,
             "#276419"
            ]
           ],
           "sequential": [
            [
             0,
             "#0d0887"
            ],
            [
             0.1111111111111111,
             "#46039f"
            ],
            [
             0.2222222222222222,
             "#7201a8"
            ],
            [
             0.3333333333333333,
             "#9c179e"
            ],
            [
             0.4444444444444444,
             "#bd3786"
            ],
            [
             0.5555555555555556,
             "#d8576b"
            ],
            [
             0.6666666666666666,
             "#ed7953"
            ],
            [
             0.7777777777777778,
             "#fb9f3a"
            ],
            [
             0.8888888888888888,
             "#fdca26"
            ],
            [
             1,
             "#f0f921"
            ]
           ],
           "sequentialminus": [
            [
             0,
             "#0d0887"
            ],
            [
             0.1111111111111111,
             "#46039f"
            ],
            [
             0.2222222222222222,
             "#7201a8"
            ],
            [
             0.3333333333333333,
             "#9c179e"
            ],
            [
             0.4444444444444444,
             "#bd3786"
            ],
            [
             0.5555555555555556,
             "#d8576b"
            ],
            [
             0.6666666666666666,
             "#ed7953"
            ],
            [
             0.7777777777777778,
             "#fb9f3a"
            ],
            [
             0.8888888888888888,
             "#fdca26"
            ],
            [
             1,
             "#f0f921"
            ]
           ]
          },
          "colorway": [
           "#636efa",
           "#EF553B",
           "#00cc96",
           "#ab63fa",
           "#FFA15A",
           "#19d3f3",
           "#FF6692",
           "#B6E880",
           "#FF97FF",
           "#FECB52"
          ],
          "font": {
           "color": "#2a3f5f"
          },
          "geo": {
           "bgcolor": "white",
           "lakecolor": "white",
           "landcolor": "#E5ECF6",
           "showlakes": true,
           "showland": true,
           "subunitcolor": "white"
          },
          "hoverlabel": {
           "align": "left"
          },
          "hovermode": "closest",
          "mapbox": {
           "style": "light"
          },
          "paper_bgcolor": "white",
          "plot_bgcolor": "#E5ECF6",
          "polar": {
           "angularaxis": {
            "gridcolor": "white",
            "linecolor": "white",
            "ticks": ""
           },
           "bgcolor": "#E5ECF6",
           "radialaxis": {
            "gridcolor": "white",
            "linecolor": "white",
            "ticks": ""
           }
          },
          "scene": {
           "xaxis": {
            "backgroundcolor": "#E5ECF6",
            "gridcolor": "white",
            "gridwidth": 2,
            "linecolor": "white",
            "showbackground": true,
            "ticks": "",
            "zerolinecolor": "white"
           },
           "yaxis": {
            "backgroundcolor": "#E5ECF6",
            "gridcolor": "white",
            "gridwidth": 2,
            "linecolor": "white",
            "showbackground": true,
            "ticks": "",
            "zerolinecolor": "white"
           },
           "zaxis": {
            "backgroundcolor": "#E5ECF6",
            "gridcolor": "white",
            "gridwidth": 2,
            "linecolor": "white",
            "showbackground": true,
            "ticks": "",
            "zerolinecolor": "white"
           }
          },
          "shapedefaults": {
           "line": {
            "color": "#2a3f5f"
           }
          },
          "ternary": {
           "aaxis": {
            "gridcolor": "white",
            "linecolor": "white",
            "ticks": ""
           },
           "baxis": {
            "gridcolor": "white",
            "linecolor": "white",
            "ticks": ""
           },
           "bgcolor": "#E5ECF6",
           "caxis": {
            "gridcolor": "white",
            "linecolor": "white",
            "ticks": ""
           }
          },
          "title": {
           "x": 0.05
          },
          "xaxis": {
           "automargin": true,
           "gridcolor": "white",
           "linecolor": "white",
           "ticks": "",
           "title": {
            "standoff": 15
           },
           "zerolinecolor": "white",
           "zerolinewidth": 2
          },
          "yaxis": {
           "automargin": true,
           "gridcolor": "white",
           "linecolor": "white",
           "ticks": "",
           "title": {
            "standoff": 15
           },
           "zerolinecolor": "white",
           "zerolinewidth": 2
          }
         }
        },
        "title": {
         "text": "Top 10 Form Submitters"
        }
       }
      }
     },
     "metadata": {},
     "output_type": "display_data"
    }
   ],
   "source": [
    "q2 = q1.copy()\n",
    "\n",
    "all_people = q2['Student UD ID Number:']\n",
    "all_people_set = set(all_people)\n",
    "\n",
    "people_count = {}\n",
    "\n",
    "for each_person in all_people:\n",
    "    if each_person in all_people_set:\n",
    "        if each_person in people_count:\n",
    "            people_count[each_person] += 1\n",
    "        else:\n",
    "            people_count[each_person] = 0\n",
    "\n",
    "sorted_people_by_submission_count: list[tuple[str, int]] = sorted(people_count.items(), key=lambda x: x[1], reverse=True)\n",
    "\n",
    "top_10_people = [x[0] for x in sorted_people_by_submission_count[:10]]\n",
    "top_10_values = [x[1] for x in sorted_people_by_submission_count[:10]]\n",
    "\n",
    "px.pie(values=top_10_values, names=top_10_people, title=\"Top 10 Form Submitters\")"
   ]
  },
  {
   "cell_type": "code",
   "execution_count": 78,
   "metadata": {},
   "outputs": [
    {
     "data": {
      "application/vnd.jupyter.widget-view+json": {
       "model_id": "844dd86ba21d402ab98c257ce1dc245b",
       "version_major": 2,
       "version_minor": 0
      },
      "text/plain": [
       "VBox(children=(IntSlider(value=0, description='Last X Months', max=6), Output()), layout=Layout(height='200px'…"
      ]
     },
     "metadata": {},
     "output_type": "display_data"
    }
   ],
   "source": [
    "from datetime import datetime\n",
    "\n",
    "q2_5 = q2.copy()\n",
    "\n",
    "today = datetime.now()\n",
    "today_datetime = pd.to_datetime(pd.Timestamp(year=today.year, month=today.month, day=today.day, hour=today.hour, minute=today.minute, second=today.second))\n",
    "q2_5['Months_Since'] = q2_5['Timestamp'].apply(lambda x: (today_datetime.year - x.year) * 12 + (today_datetime.month - x.month))\n",
    "\n",
    "num_slider = widgets.IntSlider(value=0, min=0, max=np.max(q2_5['Months_Since']), description='Last X Months', readout=True, readout_format='d', orientation='horizontal')\n",
    "\n",
    "output = widgets.Output()\n",
    "\n",
    "def update_slider(change):\n",
    "    new_change = change['new']\n",
    "    if type(new_change) is dict and 'value' in new_change:\n",
    "        value = new_change['value']\n",
    "        found_form_submissions = q2_5[q2_5['Months_Since'] <= value]['Student UD ID Number:']\n",
    "        with output:\n",
    "            output.clear_output()\n",
    "            for each_ud_id in found_form_submissions:\n",
    "                print(each_ud_id)\n",
    "    elif type(new_change) is int:\n",
    "        found_form_submissions = q2_5[q2_5['Months_Since'] <= new_change]['Student UD ID Number:']\n",
    "        with output:\n",
    "            output.clear_output()\n",
    "            for each_ud_id in found_form_submissions:\n",
    "                print(each_ud_id)\n",
    "\n",
    "num_slider.observe(update_slider)\n",
    "container = widgets.VBox([num_slider, output])\n",
    "container.layout.height = '200px'\n",
    "display(container)"
   ]
  },
  {
   "cell_type": "code",
   "execution_count": 121,
   "metadata": {},
   "outputs": [
    {
     "data": {
      "application/vnd.jupyter.widget-view+json": {
       "model_id": "28cb71bc21864090896b70e2eb3f108c",
       "version_major": 2,
       "version_minor": 0
      },
      "text/plain": [
       "VBox(children=(HBox(children=(Select(description='Months Since', layout=Layout(width='1000px'), options=('Over…"
      ]
     },
     "metadata": {},
     "output_type": "display_data"
    }
   ],
   "source": [
    "q3 = q2_5.copy()\n",
    "\n",
    "last_month_select = widgets.Select(options=['Overall'] + list(range(1, np.max(q3['Months_Since']))), description=\"Months Since\", layout=widgets.Layout(width='1000px'))\n",
    "x_submissions_select = widgets.IntSlider(min=0, max=np.max([x[1] for x in sorted_people_by_submission_count]), description=\"< X Submissions\", layout=widgets.Layout(width='1000px'))\n",
    "\n",
    "output = widgets.Output(layout=widgets.Layout(height='100px', width='1000px'))\n",
    "\n",
    "def process_people_submission_count(x_submissions: int, last_months = None):\n",
    "    if last_months is None:\n",
    "        # Overall, find all submissions less than x\n",
    "        found_people = list(filter(lambda x: x[1] <= x_submissions, sorted_people_by_submission_count))\n",
    "        with output:\n",
    "            output.clear_output()\n",
    "            for each_person in found_people:\n",
    "                print(each_person[0])\n",
    "    else:\n",
    "        last_month_submissions = q3[q3['Months_Since'] <= last_months]\n",
    "        people_who_submitted = last_month_submissions['Student UD ID Number:']\n",
    "        submission_count = {}\n",
    "        for each_person in people_who_submitted:\n",
    "            if each_person in submission_count:\n",
    "                submission_count[each_person] += 1\n",
    "            else:\n",
    "                submission_count[each_person] = 1\n",
    "        filtered_people = list(filter(lambda x: x[1] <= x_submissions, submission_count.items()))\n",
    "        with output:\n",
    "            output.clear_output()\n",
    "            for each_person in filtered_people:\n",
    "                print(each_person[0])\n",
    "\n",
    "def onchange(change):\n",
    "    selected_value_1 = last_month_select.value\n",
    "    slider_value = x_submissions_select.value\n",
    "    process_people_submission_count(int(str(slider_value)), None if selected_value_1 == \"Overall\" else int(str(selected_value_1)))\n",
    "\n",
    "last_month_select.observe(onchange)\n",
    "x_submissions_select.observe(onchange)\n",
    "\n",
    "vbox_layout = widgets.Layout(display='flex', flex_flow='column', align_items='stretch', height='300px', justify_content='space-between')\n",
    "inputs = widgets.HBox([last_month_select, x_submissions_select])\n",
    "container = widgets.VBox([inputs, output], layout=vbox_layout)\n",
    "container.layout.height = '200px'\n",
    "display(container)"
   ]
  },
  {
   "cell_type": "code",
   "execution_count": 137,
   "metadata": {},
   "outputs": [
    {
     "data": {
      "application/vnd.jupyter.widget-view+json": {
       "model_id": "05b8a9c127964c11a0d6df5b765374cd",
       "version_major": 2,
       "version_minor": 0
      },
      "text/plain": [
       "VBox(children=(Select(description='Months Since', layout=Layout(width='1000px'), options=('Overall', 1, 2, 3, …"
      ]
     },
     "metadata": {},
     "output_type": "display_data"
    }
   ],
   "source": [
    "q4 = q3.copy()\n",
    "\n",
    "last_month_select = widgets.Select(options=['Overall'] + list(range(1, np.max(q3['Months_Since']))), description=\"Months Since\", layout=widgets.Layout(width='1000px'))\n",
    "vbox_layout = widgets.Layout(display='flex', flex_flow='column', align_items='stretch', height='300px', justify_content='space-between')\n",
    "output = widgets.Output(layout=widgets.Layout(height='100px', width='1000px'))\n",
    "\n",
    "def process_months_since(months_since: int | str):\n",
    "    if months_since == 'Overall':\n",
    "        total_counts = [x[1] for x in sorted_people_by_submission_count]\n",
    "        min_value = np.min(total_counts)\n",
    "        max_value = np.max(total_counts)\n",
    "        median_value = np.median(total_counts)\n",
    "        avg_value = np.average(total_counts)\n",
    "\n",
    "        with output:\n",
    "            output.clear_output()\n",
    "            print(f'MIN: {min_value}\\nMAX: {max_value}\\nMEDIAN: {median_value}\\nAVERAGE: {round(avg_value, 2)}')\n",
    "    else:\n",
    "        number_of_submissions_since = q4[q4['Months_Since'] <= months_since]\n",
    "        people_submitting = number_of_submissions_since['Student UD ID Number:']\n",
    "        people_submitting_count = {}\n",
    "        for each_person in people_submitting:\n",
    "            if each_person in people_submitting_count:\n",
    "                people_submitting_count[each_person] += 1\n",
    "            else:\n",
    "                people_submitting_count[each_person] = 1\n",
    "        total_counts = list(people_submitting_count.values())\n",
    "        min_value = np.min(total_counts)\n",
    "        max_value = np.max(total_counts)\n",
    "        median_value = np.median(total_counts)\n",
    "        avg_value = np.average(total_counts)\n",
    "        with output:\n",
    "            output.clear_output()\n",
    "            print(f'MIN: {min_value}\\nMAX: {max_value}\\nMEDIAN: {median_value}\\nAVERAGE: {round(avg_value, 2)}')\n",
    "\n",
    "\n",
    "def onchange(change):\n",
    "    selected_value_1 = last_month_select.value\n",
    "    if selected_value_1 == 'Overall':\n",
    "        process_months_since(str(selected_value_1))\n",
    "    else:\n",
    "        process_months_since(int(str(selected_value_1)))\n",
    "\n",
    "last_month_select.observe(onchange)\n",
    "container = widgets.VBox([last_month_select, output], layout=vbox_layout)\n",
    "container.layout.height = '200px'\n",
    "display(container)"
   ]
  },
  {
   "cell_type": "code",
   "execution_count": 147,
   "metadata": {},
   "outputs": [
    {
     "name": "stdout",
     "output_type": "stream",
     "text": [
      "[8, 9, 10, 10]\n"
     ]
    }
   ],
   "source": [
    "q5 = [x[1] for x in sorted_people_by_submission_count[::-1]]\n",
    "median_ind = len(q5) // 2\n",
    "median_lower_half = median_ind // 2\n",
    "median_upper_half = median_ind + (median_ind // 2)\n",
    "iqr = q5[median_upper_half] - q5[median_lower_half]\n",
    "one_half_iqr = 1.5 * iqr\n",
    "upper_one_half_iqr = q5[median_upper_half] + one_half_iqr\n",
    "lower_one_half_iqr = q5[median_lower_half] - one_half_iqr\n",
    "\n",
    "outliers = list(filter(lambda x: x <= lower_one_half_iqr or x >= upper_one_half_iqr, q5))\n",
    "print(outliers)"
   ]
  }
 ],
 "metadata": {
  "kernelspec": {
   "display_name": "venv",
   "language": "python",
   "name": "python3"
  },
  "language_info": {
   "codemirror_mode": {
    "name": "ipython",
    "version": 3
   },
   "file_extension": ".py",
   "mimetype": "text/x-python",
   "name": "python",
   "nbconvert_exporter": "python",
   "pygments_lexer": "ipython3",
   "version": "3.11.1"
  },
  "orig_nbformat": 4
 },
 "nbformat": 4,
 "nbformat_minor": 2
}
